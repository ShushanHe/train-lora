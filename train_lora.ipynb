{
 "cells": [
  {
   "cell_type": "markdown",
   "id": "ee1cdd3d",
   "metadata": {},
   "source": [
    "# Load Model and Tokenizer"
   ]
  },
  {
   "cell_type": "code",
   "execution_count": 11,
   "id": "3cfd5ec9",
   "metadata": {},
   "outputs": [],
   "source": [
    "import os\n",
    "import sys\n",
    "module_path = os.path.abspath(os.path.join('..'))\n",
    "if module_path not in sys.path:\n",
    "    sys.path.append(module_path)"
   ]
  },
  {
   "cell_type": "code",
   "execution_count": 13,
   "id": "5378831b",
   "metadata": {},
   "outputs": [],
   "source": [
    "os.chdir(os.path.expanduser(module_path+'/trainlora'))"
   ]
  },
  {
   "cell_type": "markdown",
   "id": "793fec87",
   "metadata": {},
   "source": [
    "## Only for model setting"
   ]
  },
  {
   "cell_type": "code",
   "execution_count": 2,
   "id": "c3d8254f",
   "metadata": {},
   "outputs": [],
   "source": [
    "from modules import shared, utils\n",
    "from pathlib import Path\n",
    "import re\n",
    "shared.args.cpu=True"
   ]
  },
  {
   "cell_type": "code",
   "execution_count": 3,
   "id": "07d249e2",
   "metadata": {},
   "outputs": [
    {
     "data": {
      "text/plain": [
       "Namespace(model='facebook_opt-1.3b', model_dir='models/', lora_dir='loras/', extensions=None, log_level='INFO', lora_name=None, lora_to_load=None, always_override=False, save_steps=0, micro_batch_size=4, batch_size=128, epochs=3, learning_rate='3e-4', lr_scheduler_type='linear', lora_rank=32, lora_alpha=64, lora_dropout=0.05, cutoff_len=256, dataset='None', eval_dataset='None', format=None, eval_steps=100, raw_text_file='None', overlap_len=128, newline_favor_len=128, higher_rank_limit=False, warmup_steps=100, optimizer='adamw_torch', hard_cut_string='\\\\n\\\\n\\\\n', cpu=True, auto_devices=False, gpu_memory=None, cpu_memory=None, disk=False, disk_cache_dir='cache', load_in_8bit=False, load_in_4bit=False, bf16=False, xformers=False, sdp_attention=False, trust_remote_code=False, wbits=0, model_type=None, groupsize=-1, pre_layer=None, checkpoint=None, monkey_patch=False, quant_attn=False, warmup_autotune=False, fused_mlp=False, autogptq=False, triton=False, deepspeed=False, nvme_offload_dir=None, local_rank=0, flexgen=False, percent=[0, 100, 100, 0, 100, 0], compress_weight=False, pin_weight=True)"
      ]
     },
     "execution_count": 3,
     "metadata": {},
     "output_type": "execute_result"
    }
   ],
   "source": [
    "shared.args"
   ]
  },
  {
   "cell_type": "code",
   "execution_count": 4,
   "id": "252c7ed1",
   "metadata": {},
   "outputs": [],
   "source": [
    "#logging.basicConfig(level=shared.args.log_level.upper())\n",
    "# # Loading custom settings\n",
    "# settings_file = None\n",
    "# if shared.args.settings is not None and Path(shared.args.settings).exists():\n",
    "#     settings_file = Path(shared.args.settings)\n",
    "# elif Path('settings.json').exists():\n",
    "#     settings_file = Path('settings.json')\n",
    "\n",
    "# Set default model settings based on settings.json\n",
    "shared.model_config['.*'] = {\n",
    "    'wbits': 'None',\n",
    "    'model_type': 'None',\n",
    "    'groupsize': 'None',\n",
    "    'pre_layer': 0,\n",
    "    'mode': shared.settings['mode'],\n",
    "    'skip_special_tokens': shared.settings['skip_special_tokens'],\n",
    "    'custom_stopping_strings': shared.settings['custom_stopping_strings'],\n",
    "}\n",
    "\n",
    "shared.model_config.move_to_end('.*', last=False)  # Move to the beginning\n",
    "def atoi(text):\n",
    "    return int(text) if text.isdigit() else text.lower()\n",
    "def natural_keys(text):\n",
    "    return [atoi(c) for c in re.split(r'(\\d+)', text)]\n",
    "\n",
    "available_models = sorted([re.sub('.pth$', '', item.name) \\\n",
    "                           for item in list(Path(f'{shared.args.model_dir}/').glob('*')) \\\n",
    "                           if not item.name.endswith(('.txt', '-np', '.pt', '.json', '.yaml'))], key=natural_keys)"
   ]
  },
  {
   "cell_type": "code",
   "execution_count": 5,
   "id": "ea19d663",
   "metadata": {},
   "outputs": [
    {
     "data": {
      "text/plain": [
       "['.DS_Store', 'facebook_opt-1.3b']"
      ]
     },
     "execution_count": 5,
     "metadata": {},
     "output_type": "execute_result"
    }
   ],
   "source": [
    "available_models"
   ]
  },
  {
   "cell_type": "code",
   "execution_count": 6,
   "id": "16f51fc5",
   "metadata": {},
   "outputs": [],
   "source": [
    "def get_model_specific_settings(model):\n",
    "    settings = shared.model_config\n",
    "    model_settings = {}\n",
    "\n",
    "    for pat in settings:\n",
    "        if re.match(pat.lower(), model.lower()):\n",
    "            for k in settings[pat]:\n",
    "                model_settings[k] = settings[pat][k]\n",
    "\n",
    "    return model_settings"
   ]
  },
  {
   "cell_type": "code",
   "execution_count": 7,
   "id": "604424f6",
   "metadata": {},
   "outputs": [],
   "source": [
    "shared.model_name = available_models[1]\n",
    "model_settings = get_model_specific_settings(shared.model_name)\n",
    "shared.settings.update(model_settings)  # hijacking the interface defaults"
   ]
  },
  {
   "cell_type": "code",
   "execution_count": 8,
   "id": "1b413770",
   "metadata": {},
   "outputs": [
    {
     "data": {
      "text/plain": [
       "{'wbits': 'None',\n",
       " 'model_type': 'None',\n",
       " 'groupsize': 'None',\n",
       " 'pre_layer': 0,\n",
       " 'mode': 'chat',\n",
       " 'skip_special_tokens': True,\n",
       " 'custom_stopping_strings': ''}"
      ]
     },
     "execution_count": 8,
     "metadata": {},
     "output_type": "execute_result"
    }
   ],
   "source": [
    "model_settings"
   ]
  },
  {
   "cell_type": "markdown",
   "id": "a1042fdc",
   "metadata": {},
   "source": [
    "## Key Steps"
   ]
  },
  {
   "cell_type": "code",
   "execution_count": 9,
   "id": "03f545b0",
   "metadata": {},
   "outputs": [],
   "source": [
    "from transformers import (AutoConfig, AutoModel, AutoModelForCausalLM,\n",
    "                          AutoModelForSeq2SeqLM, AutoTokenizer,\n",
    "                          BitsAndBytesConfig, LlamaTokenizer)\n",
    "import torch\n",
    "import transformers\n",
    "from accelerate import infer_auto_device_map, init_empty_weights\n",
    "\n",
    "def huggingface_loader(model_name):\n",
    "    LoaderClass = AutoModelForCausalLM\n",
    "\n",
    "    params = {\n",
    "        \"low_cpu_mem_usage\": True,\n",
    "        \"trust_remote_code\": shared.args.trust_remote_code\n",
    "    }\n",
    "\n",
    "    shared.args.cpu = True\n",
    "    params[\"torch_dtype\"] = torch.float32\n",
    "\n",
    "    checkpoint = Path(f'{shared.args.model_dir}/{model_name}')\n",
    "    model = LoaderClass.from_pretrained(checkpoint, **params)\n",
    "\n",
    "    return model\n",
    "\n",
    "def load_tokenizer(model_name, model):\n",
    "    tokenizer = None\n",
    "    if shared.model_type == 'gpt4chan' and Path(f\"{shared.args.model_dir}/gpt-j-6B/\").exists():\n",
    "        tokenizer = AutoTokenizer.from_pretrained(Path(f\"{shared.args.model_dir}/gpt-j-6B/\"))\n",
    "    elif type(model) is transformers.LlamaForCausalLM:\n",
    "        # Try to load an universal LLaMA tokenizer\n",
    "        if shared.model_type not in ['llava', 'oasst']:\n",
    "            for p in [Path(f\"{shared.args.model_dir}/llama-tokenizer/\"), Path(f\"{shared.args.model_dir}/oobabooga_llama-tokenizer/\")]:\n",
    "                if p.exists():\n",
    "                    logging.info(f\"Loading the universal LLaMA tokenizer from {p}...\")\n",
    "                    tokenizer = LlamaTokenizer.from_pretrained(p, clean_up_tokenization_spaces=True)\n",
    "                    return tokenizer\n",
    "\n",
    "        # Otherwise, load it from the model folder and hope that these\n",
    "        # are not outdated tokenizer files.\n",
    "        tokenizer = LlamaTokenizer.from_pretrained(Path(f\"{shared.args.model_dir}/{model_name}/\"), clean_up_tokenization_spaces=True)\n",
    "        try:\n",
    "            tokenizer.eos_token_id = 2\n",
    "            tokenizer.bos_token_id = 1\n",
    "            tokenizer.pad_token_id = 0\n",
    "        except:\n",
    "            pass\n",
    "    else:\n",
    "        path_to_model = Path(f\"{shared.args.model_dir}/{model_name}/\")\n",
    "        if path_to_model.exists():\n",
    "            tokenizer = AutoTokenizer.from_pretrained(path_to_model, trust_remote_code=shared.args.trust_remote_code)\n",
    "\n",
    "    return tokenizer\n",
    "\n",
    "def load_model(model_name):\n",
    "    load_func = huggingface_loader\n",
    "    output = load_func(model_name)\n",
    "    if type(output) is tuple:\n",
    "        model, tokenizer = output\n",
    "    else:\n",
    "        model = output\n",
    "        if model is None:\n",
    "            return None, None\n",
    "        else:\n",
    "            tokenizer = load_tokenizer(model_name, model)\n",
    "\n",
    "    # Hijack attention with xformers\n",
    "    if any((shared.args.xformers, shared.args.sdp_attention)):\n",
    "        llama_attn_hijack.hijack_llama_attention()\n",
    "    return model, tokenizer\n",
    "\n"
   ]
  },
  {
   "cell_type": "code",
   "execution_count": 10,
   "id": "48497143",
   "metadata": {},
   "outputs": [],
   "source": [
    "import logging\n",
    "import time\n",
    "\n",
    "# Load the model\n",
    "shared.model, shared.tokenizer = load_model(shared.model_name)\n"
   ]
  },
  {
   "cell_type": "markdown",
   "id": "cefbbaa7",
   "metadata": {},
   "source": [
    "# Add Lora to the model if needed"
   ]
  },
  {
   "cell_type": "code",
   "execution_count": null,
   "id": "05bb5c8d",
   "metadata": {},
   "outputs": [],
   "source": [
    "#from modules.LoRA import add_lora_to_model\n",
    "def add_lora_to_model(lora_names):\n",
    "    prior_set = set(shared.lora_names)\n",
    "    added_set = set(lora_names) - prior_set\n",
    "    removed_set = prior_set - set(lora_names)\n",
    "    shared.lora_names = list(lora_names)\n",
    "\n",
    "    # If no LoRA needs to be added or removed, exit\n",
    "    if len(added_set) == 0 and len(removed_set) == 0:\n",
    "        return\n",
    "\n",
    "    # Add a LoRA when another LoRA is already present\n",
    "    if len(removed_set) == 0 and len(prior_set) > 0:\n",
    "        logging.info(f\"Adding the LoRA(s) named {added_set} to the model...\")\n",
    "        for lora in added_set:\n",
    "            shared.model.load_adapter(Path(f\"{shared.args.lora_dir}/{lora}\"), lora)\n",
    "\n",
    "        return\n",
    "\n",
    "    # If any LoRA needs to be removed, start over\n",
    "    if len(removed_set) > 0:\n",
    "        shared.model.disable_adapter()\n",
    "        shared.model = shared.model.base_model.model\n",
    "\n",
    "    if len(lora_names) > 0:\n",
    "        logging.info(\"Applying the following LoRAs to {}: {}\".format(shared.model_name, ', '.join(lora_names)))\n",
    "        params = {}\n",
    "        if not shared.args.cpu:\n",
    "            params['dtype'] = shared.model.dtype\n",
    "            if hasattr(shared.model, \"hf_device_map\"):\n",
    "                params['device_map'] = {\"base_model.model.\" + k: v for k, v in shared.model.hf_device_map.items()}\n",
    "            elif shared.args.load_in_8bit:\n",
    "                params['device_map'] = {'': 0}\n",
    "\n",
    "        shared.model = PeftModel.from_pretrained(shared.model, Path(f\"{shared.args.lora_dir}/{lora_names[0]}\"), **params)\n",
    "\n",
    "        for lora in lora_names[1:]:\n",
    "            shared.model.load_adapter(Path(f\"{shared.args.lora_dir}/{lora}\"), lora)\n",
    "\n",
    "        if not shared.args.load_in_8bit and not shared.args.cpu:\n",
    "            shared.model.half()\n",
    "            if not hasattr(shared.model, \"hf_device_map\"):\n",
    "                if torch.has_mps:\n",
    "                    device = torch.device('mps')\n",
    "                    shared.model = shared.model.to(device)\n",
    "                else:\n",
    "                    shared.model = shared.model.cuda()"
   ]
  },
  {
   "cell_type": "code",
   "execution_count": null,
   "id": "7720b350",
   "metadata": {},
   "outputs": [],
   "source": [
    "if shared.args.lora_to_load:\n",
    "    add_lora_to_model(shared.args.lora_to_load)#here lora_to_load is None. "
   ]
  },
  {
   "cell_type": "markdown",
   "id": "a45759dd",
   "metadata": {},
   "source": [
    "# Load and Clean Training Data"
   ]
  },
  {
   "cell_type": "markdown",
   "id": "a56b3452",
   "metadata": {},
   "source": [
    "## Encode the text data"
   ]
  },
  {
   "cell_type": "code",
   "execution_count": 121,
   "id": "c41b22a9",
   "metadata": {},
   "outputs": [],
   "source": [
    "def split_chunks(arr, step):#to get step-Gram tokens\n",
    "    for i in range(0, len(arr), step):\n",
    "        yield arr[i:i + step]\n",
    "\n",
    "#load data\n",
    "with open('training/datasets/em1.txt', 'r', encoding='utf-8') as file:\n",
    "    raw_text = file.read().replace('\\r', '')\n",
    "\n",
    "hard_cut_string=\"\\\\n\\\\n\\\\n\"\n",
    "cut_string = hard_cut_string.replace('\\\\n', '\\n')\n",
    "\n",
    "# tokenize to embeddings of shape (53,128)\n",
    "out_tokens = []\n",
    "for text_part in raw_text.split(cut_string):\n",
    "    if text_part.strip() == '':\n",
    "        continue\n",
    "\n",
    "    tokens = shared.tokenizer.encode(text_part)#encode text to embeddings: vector with len(tokens)=6741\n",
    "    step = shared.args.cutoff_len - shared.args.overlap_len\n",
    "    if step <= 0:\n",
    "        logging.warning(f\"Error: overlap_len ({shared.args.overlap_len}) cannot be greater than or equal to cutoff_len ({shared.args.cutoff_len})\")\n",
    "        break\n",
    "\n",
    "    tokens = list(split_chunks(tokens, step))\n",
    "    for i in range(1, len(tokens)):\n",
    "        tokens[i] = tokens[i - 1][-shared.args.overlap_len:] + tokens[i]\n",
    "        #while overlap_len=128, token[i]=tokens[i-1]+token[i]\n",
    "        #Note this is list sum. It is equivalent to concatenate two list.\n",
    "\n",
    "    out_tokens.extend(tokens)\n",
    "    #del tokens"
   ]
  },
  {
   "cell_type": "code",
   "execution_count": 122,
   "id": "4ccb26a0",
   "metadata": {},
   "outputs": [
    {
     "name": "stdout",
     "output_type": "stream",
     "text": [
      "53 128\n"
     ]
    }
   ],
   "source": [
    "l,w=len(out_tokens),len(out_tokens[0])\n",
    "print(l,w)"
   ]
  },
  {
   "cell_type": "code",
   "execution_count": 123,
   "id": "8cf4f0dd",
   "metadata": {},
   "outputs": [
    {
     "name": "stdout",
     "output_type": "stream",
     "text": [
      "[2, 25194, 7, 5, 1929, 9, 14973, 4, 653, 51, 109, 259, 51, 206, 64, 464, 5, 499, 9, 9187, 4, 20, 1428, 1370, 639, 24, 70, 16, 1324, 15104, 7315, 4, 20, 5674, 137, 5, 790, 6, 15104, 7315, 8, 5, 21204, 9, 3777, 4, 152, 186, 15, 9387, 19305, 4, 50118, 771, 26107, 2796, 11126, 534, 35, 15104, 7315, 6, 2814, 7, 8640, 23617, 255, 10227, 4, 166, 6329, 1642, 209, 5453, 30, 1996, 47, 10, 410, 828, 59, 3618, 6, 147, 47, 58, 2421, 6, 147, 47, 439, 7, 334, 6, 99, 47, 109, 8, 172, 52, 17, 27, 890, 95, 1339, 24, 62, 31, 89, 4, 50118, 448, 3048, 530, 35, 2647, 6, 38, 21, 2421, 11, 391, 1327, 6, 3033, 89, 454, 38]\n"
     ]
    }
   ],
   "source": [
    "print(out_tokens[0])"
   ]
  },
  {
   "cell_type": "code",
   "execution_count": 129,
   "id": "7167181c",
   "metadata": {},
   "outputs": [
    {
     "data": {
      "text/plain": [
       "['Welcome to the floor of SpaceX. What they do here they think can change the future of humanity. The driving force behind it all is CEO Elon Musk. The topic before the house, Elon Musk and the frontier of Technology. This week on Think Tank.\\nWATTENBERG: Elon Musk, welcome to THINK TANK. We normally begin these sessions by asking you a little bit about background, where you were born, where you went to school, what you do and then we’ll just pick it up from there.\\nMUSK: Well, I was born in South Africa, lived there until I was 17. Came to North America of my own accord, against my parent’s wishes. And was in Canada for a few years. I started school there which is where I met my wife.\\nTransferred down to the University of Pennsylvania and got a degree in physics, degree in business at Wharton. Came out to California with the intent of doing a PHD in the material science and physics [unintelligible] with an eye towards using that as an energy storage unit for electric vehicles.\\nI ended up deferring that graduate work to start a couple to start a couple of area companies, one of which people have heard about, such as Pay Pal.\\nWATTENBERG: What is that? I’m sort of a techie ignoramus. What does Pay Pal do?\\nMUSK: Pay Pal is the leading internet payment mechanism. It’s probably like an American Express of the Twenty First Century.\\nWATTENBERG: What does it do that my American Express card doesn’t do? I mean, I can order things on the internet with a credit card, can’t I?\\nMUSK: Yeah you can. It’s hard to explain Pay Pal by analogy since it’s really a new sort of entity.\\nSo, what that allows you to do is to send money to a business or person just by entering an email address. And the money easily transfers from your Pay Pal account to their Pay Pal account.\\nIf you have money in Pay Pal account, it will do an internal transfer, almost like a bank transfer. If you don’t have money in your account, it’ll draw from your credit card or draw from your real world bank --\\nWATTENBERG: This was your idea.\\nMUSK: There were two other people involved but I was responsible for many of the core idea.\\nMUSK: I had just sold my first internet company which -- internet software primarily for media companies, allowing it to publish and manage contents on the web. I had also some special functionality. We also had map and directions functionality, yellow pages functionality, white pages.\\nAnd it’s -- you know, when you went to a web site -- a web site like a Knight Ridder newspaper web site or New York Times you wouldn’t know you would actually be using our software, but not know -- you wouldn’t that you were using our software, but you would be.\\nSo, any way, we sold that to Compaq for about 300 million dollars in cash in -- early in 99. And after I left the company and started what was originally called X.com which later became Pay Pal.\\nWATTENBERG: So, now we’re on this most remarkable factory floor of SpaceX. I felt I’ve been around. I’ve never quite seen anything like this. What are you doing here?\\nMUSK: SpaceX is developing markets for taking satellites and people to orbit and beyond. So, we’ve finished development of and done a few test launches in our small rocket, which is the Falcon One, which you see part of over here.\\nAnd we have in development a big rocket which is the Falcon 9. And that’s intended to service the space station, as well as deliver very large satellites to orbit.\\nWATTENBERG: Did you design these or are they your concept?\\nMUSK: Yes, I’m the chief designer in the company.\\nWATTENBERG: -- designer and the businessman.\\nMUSK: Yes.\\nWATTENBERG: A good combination.\\nMUSK: Yeah, I think it is a good combination.\\nWATTENBERG: And as I understand it -- so you make your money on these by taking up other people’s satellites to --\\nMUSK: Yes.\\nWATTENBERG: Satellites are used for communications, business, military, whatever?\\nMUSK: Yes.\\nWATTENBERG: Now, you want to go to Mars?\\nMUSK: I wouldn’t say -- I mean, I wouldn’t say it’s a personal interest of mine to go to Mars, but really my interest in going to Mars is from the standpoint of the extension of life beyond earth. To the best of my knowledge life exists only on earth. And this is the first time in the 4 billion year history of earth that it’s possible to extend life to another planet.\\nWATTENBERG: So, you want to go to Mars -- I mean, the way they went to Mount Everest, because it’s there.\\nMUSK: No, no, I think in the case of the sort of flippant remark by Hillary was -- it’s sort of a noteworthy achievement to have climbed the highest mountain on earth and all that [unintelligible] in the same way people want to break records of various kinds around the world, sailing journeys and that sort of thing.\\nBut this is not in that category, this is really much thicker, deeper philosophical underpinings better financed to why I think it’s important to extend life beyond earth.\\nIt goes to the nature of importance. How do you decide that one thing is important versus another. And the layers of history -- I guess a good way to distinguish whether something is important or not.\\nIf you look at the history of the earth upon a geological grand scale -- what are the really important milestones in the history of life itself. Forget about the parochial concerns of humanity.\\nThen you say, well, certainly there was the advent of single cell life, multi cellular life, plants versus animals --\\nWATTENBERG: invention of fire, the wheel, that kind of thing.\\nMUSK: That’s actually a very [unintelligible] humanity. That’s actually [unintelligible] factor (speaking over each other) Those are only important in the context of humanity.\\nWATTENBERG: Oh, I see, okay.\\nMUSK: I’m talking about things that are important in the context of life itself. So, you know, there’s life extending -- life emerging from the oceans and moving up to land.\\nThere’s the advent of mammals, the devopment of consciousness. These are -- there’s maybe ten or twelve things that fed on to that scale.\\nAnd then within a subset of man’s achievements would be things like fire, wheel, the internet and that sort of thing.\\nWATTENBERG: Do you believe that there was an unmoved mover? Did something otherworldly start it all?\\nMUSK: I think the universe can be explained by the laws of physics and does not require any supreme being --\\nWATTENBERG: Let’s get on to some other things. Much of the space program and its origins of course was governmental.\\nMUSK: Yes.\\nWATTENBERG: I mean it was military, it was NASA -- is the basic future of the space program and space exploration -- should that be done governmentally or privately or both?\\nMUSK: Probably both. I mean, yes, space exploration [unintelligible] it’s both a government and a private endeavor.\\nWATTENBERG: Could you operate without the government help?\\nMUSK: Yes.\\nWATTENBERG: I mean, it’s reached a point where you can design your rockets and do things and you don’t need to --\\nMUSK: Correct. We started with no government help. The government is a customer but we also have main commercial customers as well.\\nWATTENBERG: Who’s your customer? Defense and NASA and --\\nMUSK: Well, we have -- assuming NASA is probably our single biggest customer -- the Defense Department, particularly DARPA is a customer.\\nBut then we also have McDonald Detweiler, a Canadian company, a customer we recently signed up for this commercial geo [unintelligible] satellite launch contract with Avanti which is a -- the UK commercial satellite operator.\\nWATTENBERG: Do you find yourself at a disadvantage or advantage dealing with these great big industrial behemoths, where you’re competitors are Boeing and people like that?\\nMUSK: I think the advantage, because it’s very hard for those large companies to track the best engineers. They’re really not great environments to work in.\\nSo -- you know we’ve been very successful in recruiting the top people out of those organizations. And they’re just really inefficient -- cost inefficient.\\nWATTENBERG: The bigger the more inefficient something is?\\n[speaking over each other]\\nWATTENBERG: That’s a pretty good rule isn’t it.\\nMUSK: As a company grows and you get to be able to use division of labor and specialization of labor, far too many person increases.\\nBut once you reach a certain point where the communication inefficiency overwhelms the specialization of labor, then you actually get a declining – per employee\\nWATTENBERG: How fast is SpaceX growing in terms of people?\\nMUSK: About a 100 percent a year. But that won’t continue in the future. We may have 50 percent in the future --\\nWATTENBERG: At what point are you worrying that you’re falling victim of this idea of being too large. Is that way off in the distance?\\nMUSK: I think it’s pretty far off yeah. I think you know we’ll probably stabilize at maybe a thousand or two thousand. I think Boeing is like 100 thousand people.\\nWATTENBERG: Just to jump around a little bit, another one of your very noteworthy entrepreneurial activities is a new electric car.\\nMUSK: Yes.\\nWATTENBERG: Will you tell us about that?\\nMUSK: Sure -- and so I’m chairman and principal founder of Tesla, which -- Tesla motors, which is making a revolutionary electric sports car. It’s all electric, it has almost 250 miles range. It has acceleration which is less than four seconds to 60 miles an hour. And it’s about 100 thousand dollars, so it’s a compelling price for car of that performance.\\nWATTENBERG: Will the price go down as the production goes up?\\nMUSK: Well, the sports car will probably remain at that price point. But Tesla is developing a lower cost car, which is a sedan, it’s five passenger, four door sedan, quite large and it’s intended to be something that could be a family sedan or it can replace a small -- smallish SUV. It’s going to be in the 50 thousand dollar range. We’ll be producing 10 to 20 thousand of these a year.\\nThen we’ve got Model which will be after that and that’ll be hopefully in the 30 to 35 thousand dollar range and we’ve got 100 to 200 thousand [unintelligible] volume.\\nSo, we try to do higher and higher volume and they become more and more affordable over time. The Tesla Roadster, the sports car, is really the beachhead of the technology. It’s the introductory product, allows us to refine the technology and make more affordable over time.\\nWATTENBERG: What is the purpose of building an electric car? Can it ever be as economically competitive as a vehicle powered by fossil fuel?\\nMUSK: Yes, actually I think the long term electric cars will be more economically competitive than the -- than the gasoline car. Also, the price of gasoline is going to rise over time given finite supplies and rapidly increasing demand, particularly from China and India, as we’ve seen.\\nBut in addition to the price of gas going up, the cost of electric transportation is going to go down, drive in part by companies like Tesla.\\nWATTENBERG: What is the most efficient way to create the power to charge the batteries, to charge the engine in Tesla?\\nMUSK: Sure -- well, first of all it should be said that the efficiency of an electric car -- the electric car by Tesla is so great that if you were to take a gallon of oil and you would put power -- use that oil in an electric power station and take the efficiency of that power station -- subtract the transmission losses [unintelligible] of the electric power lines -- subtract the charging losses. And it said how many miles do you get out of that gallon of oil versus refine that gallon of oil into gasoline and run an equivalent sized car, using that gallon of gasoline -- what you’ll find is the electric car gives you at least twice as much mileage.\\nSo, that’s called the well to wheel efficiency. We do the fully [unintelligible] efficiency of a particular mode of transport. What it comes down to -- the reason -- the primary reason for that is that a gasoline engine is typically around 17 or 18 percent efficient.\\nSo, the energy in that gallon of gasoline -- the [unintelligible] [speaking over each other]\\nMUSK: Basically it’s roughly one part emission, four parts heat of the energy in that gallon of gasoline.\\nBut in comparison, the electric motor is a far more efficient device. The energy efficiency of electric motors is on the order of 90 percent. So that even after you take all those charging losses and all those other things into account, just have a fundamentally more efficient engine -- motor in the case of [unintelligible]\\nBut to answer your original question of what will charge -- we need the energy to charge the batteries for the cars and are we not simply extending the tail pipe to the power switch, so it’s a long tailpipe to the power station essentially.\\nAnd the answer to that is -- well, first of all, electricity is the universal currency. You can generate electricity in many ways, including renewable ways such as solar power, wind, geothermal -- and in ways which are less damaging to the environment such as nuclear and -- and then even if you would generate energy with hydrocarbons such as coal or oil or natural gas, the energy efficiency of electric transportation is so much greater that you can still be twice as better off than you would otherwise be.\\nWATTENBERG: Do you think we ought to be doing more to encourage the use of nuclear power in the United States. My understanding is that we have not built a new nuclear plant in about 25 years here.\\nMUSK: Right. It’s true we’ve not built new nuclear plants in a couple decades. Although what most people don’t realize is that the existing nuclear plants have been massively upgraded. [Laughter]\\nSo, our percentage of nuclear power has actually not declined as much -- [speaking over each other]\\nWATTENBERG: About 20 percent total.\\nMUSK: Yeah, we should build more nuclear power plants. I think that’s a better way to generate energy than certainly a coal power plant or a natural gas power plant.\\nBurning hydrocarbons -- I think people now recognize is a pretty bad thing. You know over time there’s a certain limit to the CO2 capacity of the atmosphere and the oceans.\\nWATTENBERG: You came from South Africa at age 17.\\nMUSK: Yes.\\nWATTENBERG: You have been quoted as saying -- Elon you came here from South Africa at age 17, is that right.\\nMUSK: Yes, I did.\\nWATTENBERG: You were an immigrant -- a legal immigrant --\\nMUSK: No, no -- yes, a legal one. [Laughter]\\nWATTENBERG: I got to think a lot of illegals add a lot of value to the United States. You have been quoted as saying that you are nauseatingly pro American.\\nMUSK: Yes, that’s true.\\nWATTENBERG: What do you mean?\\nMUSK: Well, I mean, I think the United States is the greatest country that’s ever existed on earth. And I think that it will be difficult to argue on objective grounds that it is not. I think the facts really point in that direction. It’s the greatest force for good of any country that’s ever been.\\nThere would not be democracy in the world if not for the United States. We’re obviously falling in the recent few occasions -- maybe three separate occasions in the Twentieth Century -- democracy would have fallen with World War 1, World War 2 and the Cold War, but for the United States.\\nWATTENBERG: And perhaps the threat of terrorism would be much greater if it were not for the United States.\\nMUSK: Yeah, absolutely. I think it would be a mistake to say the United States is perfect, it certainly is not. There have been many foolish things the United States has done and bad things the United States has done.\\nBut when historians look at these things on balance and measure the good with the bad -- and I think if you do that and -- on a rational basis and make a fair assessment -- I think it’s hard to [unintelligible] that the United States -- is there anything better [speaking over each other]\\nWATTENBERG: I have a reputation of interrupting my guests. But when they say exactly what I believe, I just let them talk and talk. I think you’re 100 percent right.\\nMUSK: And -- you know I wasn’t born in America -- I got here as fast as I could.\\nWATTENBERG: My sense is to use that old classical economic term, that perhaps the greatest comparative advantage we have in the United States is the fact we take in lots of immigrants, legal and to some extent illegal and we have the only really good assimilation factory in the world.\\nAnd that this provides us with such power and strength and influence -- as you said, unimaginable in human history.\\nMUSK: Yeah. Yeah. I totally agree. And I do agree with assimilation. I mean, it doesn’t mean erasing someone’s you know -- the culture that someone came from.\\nBecause I think what actually happens is that the whole melting pot things with the cultures that people came from get added to the greater mix and actually enriches the diversity of the country more than if people simply retain their -- you know their original country’s culture unmodified, which seems like an odd thing to me.\\nBecause if you want the unmodified culture of your original country, then why would you move.\\nWATTENBERG: Well, you know they say there’s a lot of public opinion [unintelligible] evidence to that effect that immigrants are more patriotic than Americans. Because those of us who were born here were born here and you know most Americans love their country, but they didn’t make the rational choice to say this is where I’m going to hang my hat.\\nAnd the levels of -- I mean, America -- all the transnational polling shows that this is the most patriotic country in the world, but at the top of that high rating, its immigrants were saying this is a great place.\\nMUSK: Sure absolutely.\\nWATTENBERG: What is the X Prize?\\nMUSK: Well, the X Prize Foundation is an organization that creates these prizes for things that -- things are important -- for which there should be an incentive to get to happen.\\nAnd, so, there are actually many X Prizes. There’s the subliminal X Prize which was won by [unintelligible], sponsored by Paul Allen.\\nWATTENBERG: Who sponsors the X Prize?\\nMUSK: Well, it varies. So in the case of the subliminal X Prize there were many sponsors. In fact I was one of the sponsors. But the main sponsor was [unintelligible] Ansari. So, it’s called Ansari X Prize. [unintelligible] Ansari, actually, so the Ansari family sponsored several X Prizes.\\nWATTENBERG: [unintelligible]\\nMUSK: But there are others. For example, there’s a genomics X Prize for low cost decoding of the human genome and that’s sponsored by Craig Ventor [phonetic].\\nWATTENBERG: One of our -- my occasional cohosts on this program is Francis Collins who is the Director of the Human Genome project at NIH.\\nMUSK: Oh, yeah.\\nWATTENBERG: We just did two programs with him. He’s a very remarkable guy.\\nRevenues in your company have been going in what direction?\\nMUSK: Up quite dramatically.\\nWATTENBERG: How much percentage per year -- is that the way to measure it?\\nMUSK: Sure, well, of course SpaceX revenue have been growing about 150 to 200 percent a year. For Tesla -- well Tesla is kind of a -- Tesla will only start shipping cars next month and, so, real actually recognized revenue would only occur. So, the percentage would be ridiculously gigantic.\\nSo, part of it would [unintelligible] revenues percentage standpoint. But suffice it to say that next year Tesla will probably do 60 or 70 million dollars in revenue.\\nWATTENBERG: SpaceX is already profitable.\\nMUSK: Yes.\\nWATTENBERG: Tesla obviously cannot be profitable.\\nMUSK: It’s not profitable yet.\\nWATTENBERG: Now, you are not a public -- none of your ventures are public?\\nMUSK: None of my major ventures are public.\\nWATTENBERG: But they may well become --\\nMUSK: Correct. I suspect over time all three of my most significant ventures will become public companies, SpaceX, Tesla and Solar City.\\nWATTENBERG: And the reason for this is to provide more capital to expand.\\nMUSK: Yeah go public -- provides more capital to expand, it provides some measure of liquidity for investors in the company and it’s also helpful as a currency for acquiring other companies.\\nWATTENBERG: Is that what you’d like to do --\\n[Break In Interview] [CHANGING TAPES]\\nWATTENBERG: So, you want to go public and issue stock?\\nMUSK: Well, I wouldn’t say -- I said public is a -- going public is a consequence of you know a certain maturity level of the company down the road. But I wouldn’t -- I wouldn’t go public as a goal. It’s not really a goal, it’s --\\nWATTENBERG: One of the reasons that entrepreneurs go public if they have ambition -- is to use the stock to buy other companies -- [speaking over each other]\\nMUSK: Absolutely.\\nWATTENBERG: You were [unintelligible]\\nMUSK: Absolutely\\nWATTENBERG: And that’s what you want to do?\\nMUSK: Among other things, certainly one of the reasons.\\nWATTENBERG: How big would you like to grow in your mind’s eye? Very very very big or medium big, I mean, do you want to be as big as Microsoft?\\nMUSK: [Laughs] Do I want to be as big as Microsoft.\\nWATTENBERG: Well, somebody -- Gates did it, it’s not inconceivable.\\nMUSK: Well, the size of the company market cap isn’t really a metric by which I would judge my own achievement.\\nI’m much more interested in the case of Tesla, Solar City, making impact on climate change and CO2 production and energy independence for those two companies and the case of SpaceX -- really primarily interested in making progress towards helping [unintelligible] become a space [unintelligible] civilization and ultimately extending life beyond earth.\\nAs a result, I expect that the companies will be valuable. Because it would be hard I think to accomplish those objectives and not be a valuable company.\\nWATTENBERG: Well, it’s very interesting. I have am, you know, in awe of what you guys do, not only because you create goods and services that we all need. But you know I was deeply involved in the whole cold war struggle.\\nAnd you know SDI -- Star Wars -- probably never would have worked [unintelligible] hitting a bullet with a bullet when they have 25 thousand MRVS. I mean, you can hit a few of them.\\nBut it’s very interesting it may have been the most successful military program in history, put a few million bucks in it, give it to the Russians -- scare the hell out of the Russians.\\nNow, the question is why did it scare the Russians. It scared the Soviets because it was basically -- this industry was created by a bunch of guys in their backyards diddling around. They didn’t allow kids to diddle around in their backyards if it was against state policy.\\nSo, they said, they can do it and we can’t do it. And, so, they started making deals which they would not have made if they weren’t afraid of SDI, which was nothing really to be afraid of.\\nBut again I mean, [speaking over each other] my world view on this thing is the best thing we have going for it is [unintelligible]. It shows up in the market place, it shows up in health, it shows up in longevity, it shows up in technology, it shows up in politics and geo politics and -- you know, within certain limits.\\nIf you allow free people to do things, they do great things.\\nMUSK: Yeah I agree absolutely.\\nWATTENBERG: Okay -- now let me ask you this: Who are your heroes?\\n\\nMUSK: My heroes. Well, Winston Churchill, Thomas Edison -- I mean, I could go on with this long list, I suppose.\\nWATTENBERG: Any of the American techie guys, the guys who were doing the sorts of things you are doing?\\nMUSK: Oh, you mean [unintelligible]\\nWATTENBERG: Yeah, you’re case. Go ahead counselor.\\nMUSK: [Laughter] Well, for people that [unintelligible] contemporary -- I mean, I think Larry and Sergey at Google. I suppose they’re my heroes -- they’re also my Friends.\\nWATTENBERG: Did you hang out socially with these guys?\\nMUSK: Yes.\\n\\nWATTENBERG: Is there anyone in the political world that you admire now particularly\\nMUSK: Who’s alive today?\\nWATTENBERG: Yeah, who’s alive today. Is there anyone you admire, is there anyone you detest?\\nMUSK: Who do I admire?\\nWATTENBERG: Yes.\\nMUSK: [pause] You know I’m not a huge admirer of politicians in general.\\nWATTENBERG: Most Americans aren’t. [Laughter]\\n[speaking over each other]\\nWATTENBERG: It’s very interesting -- I mean, I think it’s a very healthy sign that the country’s okay and people don’t like politicians and don’t choose to vote. I mean, they say I got better things to do at the moment.\\nMUSK: Yeah I wouldn’t say I’m a huge admirer of anyone in particular on the political stage today. I mean, historically I would say Winston Churchill -- on of the greats; you know maybe Teddy Roosevelt, Disraeli.\\nWATTENBERG: What about the more recent ones. Do you think Reagan did a good job?\\nMUSK: Yeah, absolutely. I think Reagan was great. Actually I think he was -- he should be up there among one of the great -- as one of the greater [unintelligible] Presidents.\\nWATTENBERG: How about Bill Clinton?\\nMUSK: Probably certainly above average as American Presidents go, not quite as good as a lot of people would make him out to be. I think if you look at the actual track record on things like Rwanda, should have taken action.\\n\\nWATTENBERG: What do you think of the President incumbent, George W. Bush?\\nMUSK: You know, George Bush is like Reagan without the brains.\\n[Laughter]\\nMUSK: Reagan was a smart man.\\nWATTENBERG: It’s funny, that’s what they said about Reagan and he didn’t have any brains and he had a lot of brains.\\nYou don’t need knowledge to be a good President, you need that V thing, the vision thing and I think Reagan had it. I think Bush has it. People disagree. To say, you know, the analogy is you can’t turn your boat around -- the ship around -- you got to say -- it’s an ocean liner -- you move it -- and Reagan had the ability -- I sort of think Bush does -- but history will tell -- to say well take it over that way and don’t bother me with the details. You know what I want.\\nYou know Kennedy and Reagan they brought something to the table that you can’t put a price on. They made Americans feel very good about themselves.\\nNow Kennedy didn’t do a whole lot, he died. He was killed too early. But for those years, people all around the world in America were saying that’s what America is like.\\nMUSK: I think the current President Bush does the right thing, in his view. But the really -- the big difference President Bush -- current Bush -- and Reagan -- is that Reagan actually had strong intellectual underpinnings for his decisive actions. He read -- he read a lot of books. He thought deeply about the subjects.\\nAnd particularly prior to the stroke, his writings were actually quite smart. He was a smart guy--\\n\\nWATTENBERG: Elon Musk, thank you very much for joining us on THINK TANK. Please come back again -- and thank you -- and thank you please remember to send your email comments to THINK TANK. We think it makes our program better. For THINK TANK I’m Ben Wattenberg.']"
      ]
     },
     "execution_count": 129,
     "metadata": {},
     "output_type": "execute_result"
    }
   ],
   "source": [
    "raw_text.split(cut_string)\n",
    "#something goes wrong here. As no space after '\\n', we can not split the text into small parts.\n",
    "#we have to encode the whole text in one step. "
   ]
  },
  {
   "cell_type": "markdown",
   "id": "20b3825e",
   "metadata": {},
   "source": [
    "## look into the tokens"
   ]
  },
  {
   "cell_type": "code",
   "execution_count": 109,
   "id": "1c6292d6",
   "metadata": {},
   "outputs": [],
   "source": [
    "#original tokens\n",
    "for text_part in raw_text.split(cut_string):\n",
    "    if text_part.strip() != '':\n",
    "        tokens_orig = shared.tokenizer.encode(text_part)#encode text to embeddings\n",
    "        break #only encode the first token (text_part) for testing"
   ]
  },
  {
   "cell_type": "code",
   "execution_count": 110,
   "id": "115d62ba",
   "metadata": {},
   "outputs": [
    {
     "data": {
      "text/plain": [
       "6741"
      ]
     },
     "execution_count": 110,
     "metadata": {},
     "output_type": "execute_result"
    }
   ],
   "source": [
    "len(tokens_orig)"
   ]
  },
  {
   "cell_type": "code",
   "execution_count": 111,
   "id": "46f7faf5",
   "metadata": {},
   "outputs": [],
   "source": [
    "#tokens after chunk\n",
    "step = shared.args.cutoff_len - shared.args.overlap_len\n",
    "tokens = list(split_chunks(tokens_orig, step))"
   ]
  },
  {
   "cell_type": "code",
   "execution_count": 112,
   "id": "5afa52fe",
   "metadata": {},
   "outputs": [
    {
     "name": "stdout",
     "output_type": "stream",
     "text": [
      "53 128 128 85\n"
     ]
    }
   ],
   "source": [
    "print(len(tokens),len(tokens[0]),len(tokens[1]),len(tokens[-1]))"
   ]
  },
  {
   "cell_type": "code",
   "execution_count": 118,
   "id": "e00661ff",
   "metadata": {},
   "outputs": [
    {
     "name": "stdout",
     "output_type": "stream",
     "text": [
      "128 128 213\n"
     ]
    }
   ],
   "source": [
    "print(len(tokens[51]),len(tokens[51]),len(tokens[51]+tokens[52]))\n",
    "#sum is to concatenate two list. The last list has different length."
   ]
  },
  {
   "cell_type": "code",
   "execution_count": 126,
   "id": "9bf2def5",
   "metadata": {},
   "outputs": [
    {
     "name": "stdout",
     "output_type": "stream",
     "text": [
      "[21, 2421, 11, 391, 1327, 6, 3033, 89, 454, 38]\n"
     ]
    }
   ],
   "source": [
    "print(tokens[0][-10:])"
   ]
  },
  {
   "cell_type": "markdown",
   "id": "6c468045",
   "metadata": {},
   "source": [
    "## Generate training dataset"
   ]
  },
  {
   "cell_type": "code",
   "execution_count": 15,
   "id": "432b5a64",
   "metadata": {},
   "outputs": [],
   "source": [
    "from datasets import Dataset as dt, load_dataset"
   ]
  },
  {
   "cell_type": "code",
   "execution_count": 18,
   "id": "da30c04c",
   "metadata": {},
   "outputs": [],
   "source": [
    "from datasets import Dataset as dt, load_dataset\n",
    "def cut_chunk_for_newline(chunk: str, max_length: int):\n",
    "    if '\\n' not in chunk:\n",
    "        return chunk\n",
    "\n",
    "    first_newline = chunk.index('\\n')\n",
    "    if first_newline < max_length:\n",
    "        chunk = chunk[first_newline + 1:]\n",
    "\n",
    "    if '\\n' not in chunk:\n",
    "        return chunk\n",
    "\n",
    "    last_newline = chunk.rindex('\\n')\n",
    "    if len(chunk) - last_newline < max_length:\n",
    "        chunk = chunk[:last_newline]\n",
    "\n",
    "    return chunk\n",
    "\n",
    "def tokenize(prompt):\n",
    "    result = shared.tokenizer(prompt, truncation=True, max_length=shared.args.cutoff_len + 1, padding=\"max_length\")\n",
    "    return {\n",
    "        \"input_ids\": result[\"input_ids\"][:-1],\n",
    "        \"attention_mask\": result[\"attention_mask\"][:-1],\n",
    "    }\n",
    "\n",
    "#del raw_text  # Note: could be a gig for a large dataset, so delete redundant data as we go to be safe on RAM\n",
    "text_chunks = [shared.tokenizer.decode(x) for x in out_tokens]#convert emb to text\n",
    "#del out_tokens\n",
    "if shared.args.newline_favor_len > 0:#cut output text with favorate line length\n",
    "    text_chunks = [cut_chunk_for_newline(x, shared.args.newline_favor_len) for x in text_chunks]\n",
    "\n",
    "train_data = dt.from_list([tokenize(x) for x in text_chunks])\n",
    "#del text_chunks\n",
    "eval_data = None"
   ]
  },
  {
   "cell_type": "code",
   "execution_count": 130,
   "id": "77e708bb",
   "metadata": {},
   "outputs": [
    {
     "data": {
      "text/plain": [
       "128"
      ]
     },
     "execution_count": 130,
     "metadata": {},
     "output_type": "execute_result"
    }
   ],
   "source": [
    "shared.args.newline_favor_len"
   ]
  },
  {
   "cell_type": "code",
   "execution_count": 127,
   "id": "98bde4ba",
   "metadata": {},
   "outputs": [
    {
     "name": "stdout",
     "output_type": "stream",
     "text": [
      "['</s>Welcome to the floor of SpaceX. What they do here they think can change the future of humanity. The driving force behind it all is CEO Elon Musk. The topic before the house, Elon Musk and the frontier of Technology. This week on Think Tank.\\nWATTENBERG: Elon Musk, welcome to THINK TANK. We normally begin these sessions by asking you a little bit about background, where you were born, where you went to school, what you do and then we’ll just pick it up from there.', '</s>Welcome to the floor of SpaceX. What they do here they think can change the future of humanity. The driving force behind it all is CEO Elon Musk. The topic before the house, Elon Musk and the frontier of Technology. This week on Think Tank.\\nWATTENBERG: Elon Musk, welcome to THINK TANK. We normally begin these sessions by asking you a little bit about background, where you were born, where you went to school, what you do and then we’ll just pick it up from there.\\nMUSK: Well, I was born in South Africa, lived there until I was 17. Came to North America of my own accord, against my parent’s wishes. And was in Canada for a few years. I started school there which is where I met my wife.\\nTransferred down to the University of Pennsylvania and got a degree in physics, degree in business at Wharton. Came out to California with the intent of doing a PHD in the material science and physics [unintelligible] with an eye towards using that as an energy storage unit for electric vehicles.', ' was 17. Came to North America of my own accord, against my parent’s wishes. And was in Canada for a few years. I started school there which is where I met my wife.\\nTransferred down to the University of Pennsylvania and got a degree in physics, degree in business at Wharton. Came out to California with the intent of doing a PHD in the material science and physics [unintelligible] with an eye towards using that as an energy storage unit for electric vehicles.\\nI ended up deferring that graduate work to start a couple to start a couple of area companies, one of which people have heard about, such as Pay Pal.\\nWATTENBERG: What is that? I’m sort of a techie ignoramus. What does Pay Pal do?\\nMUSK: Pay Pal is the leading internet payment mechanism. It’s probably like an American Express of the Twenty First Century.\\nWATTENBERG: What does it do that my American Express card doesn’t do? I mean, I can order things on the internet with a credit card, can’t I?', 'WATTENBERG: What is that? I’m sort of a techie ignoramus. What does Pay Pal do?\\nMUSK: Pay Pal is the leading internet payment mechanism. It’s probably like an American Express of the Twenty First Century.\\nWATTENBERG: What does it do that my American Express card doesn’t do? I mean, I can order things on the internet with a credit card, can’t I?\\nMUSK: Yeah you can. It’s hard to explain Pay Pal by analogy since it’s really a new sort of entity.\\nSo, what that allows you to do is to send money to a business or person just by entering an email address. And the money easily transfers from your Pay Pal account to their Pay Pal account.\\nIf you have money in Pay Pal account, it will do an internal transfer, almost like a bank transfer. If you don’t have money in your account, it’ll draw from your credit card or draw from your real world bank --\\nWATTENBERG: This was your idea.', 'So, what that allows you to do is to send money to a business or person just by entering an email address. And the money easily transfers from your Pay Pal account to their Pay Pal account.\\nIf you have money in Pay Pal account, it will do an internal transfer, almost like a bank transfer. If you don’t have money in your account, it’ll draw from your credit card or draw from your real world bank --\\nWATTENBERG: This was your idea.\\nMUSK: There were two other people involved but I was responsible for many of the core idea.\\nMUSK: I had just sold my first internet company which -- internet software primarily for media companies, allowing it to publish and manage contents on the web. I had also some special functionality. We also had map and directions functionality, yellow pages functionality, white pages.\\nAnd it’s -- you know, when you went to a web site -- a web site like a Knight Ridder newspaper web site or New York Times you wouldn’t know you would actually be using our software, but not know -- you wouldn’t that you were using', 'MUSK: I had just sold my first internet company which -- internet software primarily for media companies, allowing it to publish and manage contents on the web. I had also some special functionality. We also had map and directions functionality, yellow pages functionality, white pages.\\nAnd it’s -- you know, when you went to a web site -- a web site like a Knight Ridder newspaper web site or New York Times you wouldn’t know you would actually be using our software, but not know -- you wouldn’t that you were using our software, but you would be.\\nSo, any way, we sold that to Compaq for about 300 million dollars in cash in -- early in 99. And after I left the company and started what was originally called X.com which later became Pay Pal.\\nWATTENBERG: So, now we’re on this most remarkable factory floor of SpaceX. I felt I’ve been around. I’ve never quite seen anything like this. What are you doing here?', 'So, any way, we sold that to Compaq for about 300 million dollars in cash in -- early in 99. And after I left the company and started what was originally called X.com which later became Pay Pal.\\nWATTENBERG: So, now we’re on this most remarkable factory floor of SpaceX. I felt I’ve been around. I’ve never quite seen anything like this. What are you doing here?\\nMUSK: SpaceX is developing markets for taking satellites and people to orbit and beyond. So, we’ve finished development of and done a few test launches in our small rocket, which is the Falcon One, which you see part of over here.\\nAnd we have in development a big rocket which is the Falcon 9. And that’s intended to service the space station, as well as deliver very large satellites to orbit.\\nWATTENBERG: Did you design these or are they your concept?\\nMUSK: Yes, I’m the chief designer in the company.\\nWATTENBERG: -- designer and the businessman.\\nMUSK: Yes.', ' finished development of and done a few test launches in our small rocket, which is the Falcon One, which you see part of over here.\\nAnd we have in development a big rocket which is the Falcon 9. And that’s intended to service the space station, as well as deliver very large satellites to orbit.\\nWATTENBERG: Did you design these or are they your concept?\\nMUSK: Yes, I’m the chief designer in the company.\\nWATTENBERG: -- designer and the businessman.\\nMUSK: Yes.\\nWATTENBERG: A good combination.\\nMUSK: Yeah, I think it is a good combination.\\nWATTENBERG: And as I understand it -- so you make your money on these by taking up other people’s satellites to --\\nMUSK: Yes.\\nWATTENBERG: Satellites are used for communications, business, military, whatever?\\nMUSK: Yes.\\nWATTENBERG: Now, you want to go to Mars?', 'MUSK: Yeah, I think it is a good combination.\\nWATTENBERG: And as I understand it -- so you make your money on these by taking up other people’s satellites to --\\nMUSK: Yes.\\nWATTENBERG: Satellites are used for communications, business, military, whatever?\\nMUSK: Yes.\\nWATTENBERG: Now, you want to go to Mars?\\nMUSK: I wouldn’t say -- I mean, I wouldn’t say it’s a personal interest of mine to go to Mars, but really my interest in going to Mars is from the standpoint of the extension of life beyond earth. To the best of my knowledge life exists only on earth. And this is the first time in the 4 billion year history of earth that it’s possible to extend life to another planet.\\nWATTENBERG: So, you want to go to Mars -- I mean, the way they went to Mount Everest, because it’s there.', ' of mine to go to Mars, but really my interest in going to Mars is from the standpoint of the extension of life beyond earth. To the best of my knowledge life exists only on earth. And this is the first time in the 4 billion year history of earth that it’s possible to extend life to another planet.\\nWATTENBERG: So, you want to go to Mars -- I mean, the way they went to Mount Everest, because it’s there.\\nMUSK: No, no, I think in the case of the sort of flippant remark by Hillary was -- it’s sort of a noteworthy achievement to have climbed the highest mountain on earth and all that [unintelligible] in the same way people want to break records of various kinds around the world, sailing journeys and that sort of thing.\\nBut this is not in that category, this is really much thicker, deeper philosophical underpinings better financed to why I think it’s important to extend life beyond earth.\\nIt goes to the nature of importance. How do you decide that one thing is important versus another. And the layers of history -- I guess a good way to distinguish whether something is important or not.', '�s sort of a noteworthy achievement to have climbed the highest mountain on earth and all that [unintelligible] in the same way people want to break records of various kinds around the world, sailing journeys and that sort of thing.\\nBut this is not in that category, this is really much thicker, deeper philosophical underpinings better financed to why I think it’s important to extend life beyond earth.\\nIt goes to the nature of importance. How do you decide that one thing is important versus another. And the layers of history -- I guess a good way to distinguish whether something is important or not.\\nIf you look at the history of the earth upon a geological grand scale -- what are the really important milestones in the history of life itself. Forget about the parochial concerns of humanity.\\nThen you say, well, certainly there was the advent of single cell life, multi cellular life, plants versus animals --\\nWATTENBERG: invention of fire, the wheel, that kind of thing.\\nMUSK: That’s actually a very [unintelligible] humanity. That’s actually [unintelligible] factor (speaking over each other) Those are only important in the context of humanity.', ' look at the history of the earth upon a geological grand scale -- what are the really important milestones in the history of life itself. Forget about the parochial concerns of humanity.\\nThen you say, well, certainly there was the advent of single cell life, multi cellular life, plants versus animals --\\nWATTENBERG: invention of fire, the wheel, that kind of thing.\\nMUSK: That’s actually a very [unintelligible] humanity. That’s actually [unintelligible] factor (speaking over each other) Those are only important in the context of humanity.\\nWATTENBERG: Oh, I see, okay.\\nMUSK: I’m talking about things that are important in the context of life itself. So, you know, there’s life extending -- life emerging from the oceans and moving up to land.\\nThere’s the advent of mammals, the devopment of consciousness. These are -- there’s maybe ten or twelve things that fed on to that scale.\\nAnd then within a subset of man’s achievements would be things like fire, wheel, the internet and that sort of thing.', 'WATTENBERG: Oh, I see, okay.\\nMUSK: I’m talking about things that are important in the context of life itself. So, you know, there’s life extending -- life emerging from the oceans and moving up to land.\\nThere’s the advent of mammals, the devopment of consciousness. These are -- there’s maybe ten or twelve things that fed on to that scale.\\nAnd then within a subset of man’s achievements would be things like fire, wheel, the internet and that sort of thing.\\nWATTENBERG: Do you believe that there was an unmoved mover? Did something otherworldly start it all?\\nMUSK: I think the universe can be explained by the laws of physics and does not require any supreme being --\\nWATTENBERG: Let’s get on to some other things. Much of the space program and its origins of course was governmental.\\nMUSK: Yes.\\nWATTENBERG: I mean it was military, it was NASA -- is the basic future of the space program and space exploration -- should that be done governmentally or privately or both?', 'MUSK: I think the universe can be explained by the laws of physics and does not require any supreme being --\\nWATTENBERG: Let’s get on to some other things. Much of the space program and its origins of course was governmental.\\nMUSK: Yes.\\nWATTENBERG: I mean it was military, it was NASA -- is the basic future of the space program and space exploration -- should that be done governmentally or privately or both?\\nMUSK: Probably both. I mean, yes, space exploration [unintelligible] it’s both a government and a private endeavor.\\nWATTENBERG: Could you operate without the government help?\\nMUSK: Yes.\\nWATTENBERG: I mean, it’s reached a point where you can design your rockets and do things and you don’t need to --\\nMUSK: Correct. We started with no government help. The government is a customer but we also have main commercial customers as well.', 'WATTENBERG: Could you operate without the government help?\\nMUSK: Yes.\\nWATTENBERG: I mean, it’s reached a point where you can design your rockets and do things and you don’t need to --\\nMUSK: Correct. We started with no government help. The government is a customer but we also have main commercial customers as well.\\nWATTENBERG: Who’s your customer? Defense and NASA and --\\nMUSK: Well, we have -- assuming NASA is probably our single biggest customer -- the Defense Department, particularly DARPA is a customer.\\nBut then we also have McDonald Detweiler, a Canadian company, a customer we recently signed up for this commercial geo [unintelligible] satellite launch contract with Avanti which is a -- the UK commercial satellite operator.\\nWATTENBERG: Do you find yourself at a disadvantage or advantage dealing with these great big industrial behemoths, where you’re competitors are Boeing and people like that?', 'MUSK: Well, we have -- assuming NASA is probably our single biggest customer -- the Defense Department, particularly DARPA is a customer.\\nBut then we also have McDonald Detweiler, a Canadian company, a customer we recently signed up for this commercial geo [unintelligible] satellite launch contract with Avanti which is a -- the UK commercial satellite operator.\\nWATTENBERG: Do you find yourself at a disadvantage or advantage dealing with these great big industrial behemoths, where you’re competitors are Boeing and people like that?\\nMUSK: I think the advantage, because it’s very hard for those large companies to track the best engineers. They’re really not great environments to work in.\\nSo -- you know we’ve been very successful in recruiting the top people out of those organizations. And they’re just really inefficient -- cost inefficient.\\nWATTENBERG: The bigger the more inefficient something is?\\n[speaking over each other]\\nWATTENBERG: That’s a pretty good rule isn’t it.', ': I think the advantage, because it’s very hard for those large companies to track the best engineers. They’re really not great environments to work in.\\nSo -- you know we’ve been very successful in recruiting the top people out of those organizations. And they’re just really inefficient -- cost inefficient.\\nWATTENBERG: The bigger the more inefficient something is?\\n[speaking over each other]\\nWATTENBERG: That’s a pretty good rule isn’t it.\\nMUSK: As a company grows and you get to be able to use division of labor and specialization of labor, far too many person increases.\\nBut once you reach a certain point where the communication inefficiency overwhelms the specialization of labor, then you actually get a declining – per employee\\nWATTENBERG: How fast is SpaceX growing in terms of people?\\nMUSK: About a 100 percent a year. But that won’t continue in the future. We may have 50 percent in the future --\\nWATTENBERG: At what point are you worrying that you’re falling victim of this idea of being too large. Is that way off in the distance', 'But once you reach a certain point where the communication inefficiency overwhelms the specialization of labor, then you actually get a declining – per employee\\nWATTENBERG: How fast is SpaceX growing in terms of people?\\nMUSK: About a 100 percent a year. But that won’t continue in the future. We may have 50 percent in the future --\\nWATTENBERG: At what point are you worrying that you’re falling victim of this idea of being too large. Is that way off in the distance?\\nMUSK: I think it’s pretty far off yeah. I think you know we’ll probably stabilize at maybe a thousand or two thousand. I think Boeing is like 100 thousand people.\\nWATTENBERG: Just to jump around a little bit, another one of your very noteworthy entrepreneurial activities is a new electric car.\\nMUSK: Yes.\\nWATTENBERG: Will you tell us about that?\\nMUSK: Sure -- and so I’m chairman and principal founder of Tesla, which -- Tesla motors, which is making a revolutionary electric sports car.', 'MUSK: I think it’s pretty far off yeah. I think you know we’ll probably stabilize at maybe a thousand or two thousand. I think Boeing is like 100 thousand people.\\nWATTENBERG: Just to jump around a little bit, another one of your very noteworthy entrepreneurial activities is a new electric car.\\nMUSK: Yes.\\nWATTENBERG: Will you tell us about that?\\nMUSK: Sure -- and so I’m chairman and principal founder of Tesla, which -- Tesla motors, which is making a revolutionary electric sports car. It’s all electric, it has almost 250 miles range. It has acceleration which is less than four seconds to 60 miles an hour. And it’s about 100 thousand dollars, so it’s a compelling price for car of that performance.\\nWATTENBERG: Will the price go down as the production goes up?\\nMUSK: Well, the sports car will probably remain at that price point. But Tesla is developing a lower cost car, which is a sedan, it’s five passenger, four door sedan, quite large and it’s intended to be something that could be', ' It’s all electric, it has almost 250 miles range. It has acceleration which is less than four seconds to 60 miles an hour. And it’s about 100 thousand dollars, so it’s a compelling price for car of that performance.\\nWATTENBERG: Will the price go down as the production goes up?\\nMUSK: Well, the sports car will probably remain at that price point. But Tesla is developing a lower cost car, which is a sedan, it’s five passenger, four door sedan, quite large and it’s intended to be something that could be a family sedan or it can replace a small -- smallish SUV. It’s going to be in the 50 thousand dollar range. We’ll be producing 10 to 20 thousand of these a year.\\nThen we’ve got Model which will be after that and that’ll be hopefully in the 30 to 35 thousand dollar range and we’ve got 100 to 200 thousand [unintelligible] volume.\\nSo, we try to do higher and higher volume and they become more and more affordable over time. The Tesla Roadster, the sports car, is really the beachhead of the technology.', ' a family sedan or it can replace a small -- smallish SUV. It’s going to be in the 50 thousand dollar range. We’ll be producing 10 to 20 thousand of these a year.\\nThen we’ve got Model which will be after that and that’ll be hopefully in the 30 to 35 thousand dollar range and we’ve got 100 to 200 thousand [unintelligible] volume.\\nSo, we try to do higher and higher volume and they become more and more affordable over time. The Tesla Roadster, the sports car, is really the beachhead of the technology. It’s the introductory product, allows us to refine the technology and make more affordable over time.\\nWATTENBERG: What is the purpose of building an electric car? Can it ever be as economically competitive as a vehicle powered by fossil fuel?\\nMUSK: Yes, actually I think the long term electric cars will be more economically competitive than the -- than the gasoline car. Also, the price of gasoline is going to rise over time given finite supplies and rapidly increasing demand, particularly from China and India, as we’ve seen.', 'WATTENBERG: What is the purpose of building an electric car? Can it ever be as economically competitive as a vehicle powered by fossil fuel?\\nMUSK: Yes, actually I think the long term electric cars will be more economically competitive than the -- than the gasoline car. Also, the price of gasoline is going to rise over time given finite supplies and rapidly increasing demand, particularly from China and India, as we’ve seen.\\nBut in addition to the price of gas going up, the cost of electric transportation is going to go down, drive in part by companies like Tesla.\\nWATTENBERG: What is the most efficient way to create the power to charge the batteries, to charge the engine in Tesla?\\nMUSK: Sure -- well, first of all it should be said that the efficiency of an electric car -- the electric car by Tesla is so great that if you were to take a gallon of oil and you would put power -- use that oil in an electric power station and take the efficiency of that power station -- subtract the transmission losses [unintelligible] of the electric power lines -- subtract', 'WATTENBERG: What is the most efficient way to create the power to charge the batteries, to charge the engine in Tesla?\\nMUSK: Sure -- well, first of all it should be said that the efficiency of an electric car -- the electric car by Tesla is so great that if you were to take a gallon of oil and you would put power -- use that oil in an electric power station and take the efficiency of that power station -- subtract the transmission losses [unintelligible] of the electric power lines -- subtract the charging losses. And it said how many miles do you get out of that gallon of oil versus refine that gallon of oil into gasoline and run an equivalent sized car, using that gallon of gasoline -- what you’ll find is the electric car gives you at least twice as much mileage.\\nSo, that’s called the well to wheel efficiency. We do the fully [unintelligible] efficiency of a particular mode of transport. What it comes down to -- the reason -- the primary reason for that is that a gasoline engine is typically around 17 or 18 percent efficient.', ' the charging losses. And it said how many miles do you get out of that gallon of oil versus refine that gallon of oil into gasoline and run an equivalent sized car, using that gallon of gasoline -- what you’ll find is the electric car gives you at least twice as much mileage.\\nSo, that’s called the well to wheel efficiency. We do the fully [unintelligible] efficiency of a particular mode of transport. What it comes down to -- the reason -- the primary reason for that is that a gasoline engine is typically around 17 or 18 percent efficient.\\nSo, the energy in that gallon of gasoline -- the [unintelligible] [speaking over each other]\\nMUSK: Basically it’s roughly one part emission, four parts heat of the energy in that gallon of gasoline.\\nBut in comparison, the electric motor is a far more efficient device. The energy efficiency of electric motors is on the order of 90 percent. So that even after you take all those charging losses and all those other things into account, just have a fundamentally more efficient engine -- motor in the case of [unintelligible]', 'MUSK: Basically it’s roughly one part emission, four parts heat of the energy in that gallon of gasoline.\\nBut in comparison, the electric motor is a far more efficient device. The energy efficiency of electric motors is on the order of 90 percent. So that even after you take all those charging losses and all those other things into account, just have a fundamentally more efficient engine -- motor in the case of [unintelligible]\\nBut to answer your original question of what will charge -- we need the energy to charge the batteries for the cars and are we not simply extending the tail pipe to the power switch, so it’s a long tailpipe to the power station essentially.\\nAnd the answer to that is -- well, first of all, electricity is the universal currency. You can generate electricity in many ways, including renewable ways such as solar power, wind, geothermal -- and in ways which are less damaging to the environment such as nuclear and -- and then even if you would generate energy with hydrocarbons such as coal or oil or natural gas, the energy efficiency of electric transportation is so much greater that you can still be twice as better off', ' for the cars and are we not simply extending the tail pipe to the power switch, so it’s a long tailpipe to the power station essentially.\\nAnd the answer to that is -- well, first of all, electricity is the universal currency. You can generate electricity in many ways, including renewable ways such as solar power, wind, geothermal -- and in ways which are less damaging to the environment such as nuclear and -- and then even if you would generate energy with hydrocarbons such as coal or oil or natural gas, the energy efficiency of electric transportation is so much greater that you can still be twice as better off than you would otherwise be.\\nWATTENBERG: Do you think we ought to be doing more to encourage the use of nuclear power in the United States. My understanding is that we have not built a new nuclear plant in about 25 years here.\\nMUSK: Right. It’s true we’ve not built new nuclear plants in a couple decades. Although what most people don’t realize is that the existing nuclear plants have been massively upgraded. [Laughter]\\nSo, our percentage of nuclear power has actually not declined as much -- [speaking over each other]', 'WATTENBERG: Do you think we ought to be doing more to encourage the use of nuclear power in the United States. My understanding is that we have not built a new nuclear plant in about 25 years here.\\nMUSK: Right. It’s true we’ve not built new nuclear plants in a couple decades. Although what most people don’t realize is that the existing nuclear plants have been massively upgraded. [Laughter]\\nSo, our percentage of nuclear power has actually not declined as much -- [speaking over each other]\\nWATTENBERG: About 20 percent total.\\nMUSK: Yeah, we should build more nuclear power plants. I think that’s a better way to generate energy than certainly a coal power plant or a natural gas power plant.\\nBurning hydrocarbons -- I think people now recognize is a pretty bad thing. You know over time there’s a certain limit to the CO2 capacity of the atmosphere and the oceans.\\nWATTENBERG: You came from South Africa at age 17.\\nMUSK: Yes.', 'MUSK: Yeah, we should build more nuclear power plants. I think that’s a better way to generate energy than certainly a coal power plant or a natural gas power plant.\\nBurning hydrocarbons -- I think people now recognize is a pretty bad thing. You know over time there’s a certain limit to the CO2 capacity of the atmosphere and the oceans.\\nWATTENBERG: You came from South Africa at age 17.\\nMUSK: Yes.\\nWATTENBERG: You have been quoted as saying -- Elon you came here from South Africa at age 17, is that right.\\nMUSK: Yes, I did.\\nWATTENBERG: You were an immigrant -- a legal immigrant --\\nMUSK: No, no -- yes, a legal one. [Laughter]\\nWATTENBERG: I got to think a lot of illegals add a lot of value to the United States. You have been quoted as saying that you are nauseatingly pro American.\\nMUSK: Yes, that’s true.\\nWATTENBERG: What do you mean?', 'MUSK: Yes, I did.\\nWATTENBERG: You were an immigrant -- a legal immigrant --\\nMUSK: No, no -- yes, a legal one. [Laughter]\\nWATTENBERG: I got to think a lot of illegals add a lot of value to the United States. You have been quoted as saying that you are nauseatingly pro American.\\nMUSK: Yes, that’s true.\\nWATTENBERG: What do you mean?\\nMUSK: Well, I mean, I think the United States is the greatest country that’s ever existed on earth. And I think that it will be difficult to argue on objective grounds that it is not. I think the facts really point in that direction. It’s the greatest force for good of any country that’s ever been.\\nThere would not be democracy in the world if not for the United States. We’re obviously falling in the recent few occasions -- maybe three separate occasions in the Twentieth Century -- democracy would have fallen with World War 1, World War 2 and the Cold War, but for', ' Well, I mean, I think the United States is the greatest country that’s ever existed on earth. And I think that it will be difficult to argue on objective grounds that it is not. I think the facts really point in that direction. It’s the greatest force for good of any country that’s ever been.\\nThere would not be democracy in the world if not for the United States. We’re obviously falling in the recent few occasions -- maybe three separate occasions in the Twentieth Century -- democracy would have fallen with World War 1, World War 2 and the Cold War, but for the United States.\\nWATTENBERG: And perhaps the threat of terrorism would be much greater if it were not for the United States.\\nMUSK: Yeah, absolutely. I think it would be a mistake to say the United States is perfect, it certainly is not. There have been many foolish things the United States has done and bad things the United States has done.\\nBut when historians look at these things on balance and measure the good with the bad -- and I think if you do that and -- on a rational basis and make a fair assessment -- I think it’s hard to [unintellig', 'WATTENBERG: And perhaps the threat of terrorism would be much greater if it were not for the United States.\\nMUSK: Yeah, absolutely. I think it would be a mistake to say the United States is perfect, it certainly is not. There have been many foolish things the United States has done and bad things the United States has done.\\nBut when historians look at these things on balance and measure the good with the bad -- and I think if you do that and -- on a rational basis and make a fair assessment -- I think it’s hard to [unintelligible] that the United States -- is there anything better [speaking over each other]\\nWATTENBERG: I have a reputation of interrupting my guests. But when they say exactly what I believe, I just let them talk and talk. I think you’re 100 percent right.\\nMUSK: And -- you know I wasn’t born in America -- I got here as fast as I could.\\nWATTENBERG: My sense is to use that old classical economic term, that perhaps the greatest comparative advantage we have in the United States is the fact we take in lots of immigrants,', 'WATTENBERG: I have a reputation of interrupting my guests. But when they say exactly what I believe, I just let them talk and talk. I think you’re 100 percent right.\\nMUSK: And -- you know I wasn’t born in America -- I got here as fast as I could.\\nWATTENBERG: My sense is to use that old classical economic term, that perhaps the greatest comparative advantage we have in the United States is the fact we take in lots of immigrants, legal and to some extent illegal and we have the only really good assimilation factory in the world.\\nAnd that this provides us with such power and strength and influence -- as you said, unimaginable in human history.\\nMUSK: Yeah. Yeah. I totally agree. And I do agree with assimilation. I mean, it doesn’t mean erasing someone’s you know -- the culture that someone came from.\\nBecause I think what actually happens is that the whole melting pot things with the cultures that people came from get added to the greater mix and actually enriches the diversity of the country more than', 'And that this provides us with such power and strength and influence -- as you said, unimaginable in human history.\\nMUSK: Yeah. Yeah. I totally agree. And I do agree with assimilation. I mean, it doesn’t mean erasing someone’s you know -- the culture that someone came from.\\nBecause I think what actually happens is that the whole melting pot things with the cultures that people came from get added to the greater mix and actually enriches the diversity of the country more than if people simply retain their -- you know their original country’s culture unmodified, which seems like an odd thing to me.\\nBecause if you want the unmodified culture of your original country, then why would you move.\\nWATTENBERG: Well, you know they say there’s a lot of public opinion [unintelligible] evidence to that effect that immigrants are more patriotic than Americans. Because those of us who were born here were born here and you know most Americans love their country, but they didn’t make the rational choice to say this is where I’m going to', 'Because if you want the unmodified culture of your original country, then why would you move.\\nWATTENBERG: Well, you know they say there’s a lot of public opinion [unintelligible] evidence to that effect that immigrants are more patriotic than Americans. Because those of us who were born here were born here and you know most Americans love their country, but they didn’t make the rational choice to say this is where I’m going to hang my hat.\\nAnd the levels of -- I mean, America -- all the transnational polling shows that this is the most patriotic country in the world, but at the top of that high rating, its immigrants were saying this is a great place.\\nMUSK: Sure absolutely.\\nWATTENBERG: What is the X Prize?\\nMUSK: Well, the X Prize Foundation is an organization that creates these prizes for things that -- things are important -- for which there should be an incentive to get to happen.', 'And the levels of -- I mean, America -- all the transnational polling shows that this is the most patriotic country in the world, but at the top of that high rating, its immigrants were saying this is a great place.\\nMUSK: Sure absolutely.\\nWATTENBERG: What is the X Prize?\\nMUSK: Well, the X Prize Foundation is an organization that creates these prizes for things that -- things are important -- for which there should be an incentive to get to happen.\\nAnd, so, there are actually many X Prizes. There’s the subliminal X Prize which was won by [unintelligible], sponsored by Paul Allen.\\nWATTENBERG: Who sponsors the X Prize?\\nMUSK: Well, it varies. So in the case of the subliminal X Prize there were many sponsors. In fact I was one of the sponsors. But the main sponsor was [unintelligible] Ansari. So, it’s called Ansari X Prize. [unintelligible] Ansari, actually, so the Ansari family sponsored several X Prizes.', 'WATTENBERG: Who sponsors the X Prize?\\nMUSK: Well, it varies. So in the case of the subliminal X Prize there were many sponsors. In fact I was one of the sponsors. But the main sponsor was [unintelligible] Ansari. So, it’s called Ansari X Prize. [unintelligible] Ansari, actually, so the Ansari family sponsored several X Prizes.\\nWATTENBERG: [unintelligible]\\nMUSK: But there are others. For example, there’s a genomics X Prize for low cost decoding of the human genome and that’s sponsored by Craig Ventor [phonetic].\\nWATTENBERG: One of our -- my occasional cohosts on this program is Francis Collins who is the Director of the Human Genome project at NIH.\\nMUSK: Oh, yeah.\\nWATTENBERG: We just did two programs with him. He’s a very remarkable guy.', 'MUSK: But there are others. For example, there’s a genomics X Prize for low cost decoding of the human genome and that’s sponsored by Craig Ventor [phonetic].\\nWATTENBERG: One of our -- my occasional cohosts on this program is Francis Collins who is the Director of the Human Genome project at NIH.\\nMUSK: Oh, yeah.\\nWATTENBERG: We just did two programs with him. He’s a very remarkable guy.\\nRevenues in your company have been going in what direction?\\nMUSK: Up quite dramatically.\\nWATTENBERG: How much percentage per year -- is that the way to measure it?\\nMUSK: Sure, well, of course SpaceX revenue have been growing about 150 to 200 percent a year. For Tesla -- well Tesla is kind of a -- Tesla will only start shipping cars next month and, so, real actually recognized revenue would only occur. So, the percentage would be ridiculously gigantic.\\nSo, part of it would [unintelligible] revenues percentage standpoint. But suffice it to say that next year Tesla will probably do 60 or 70 million dollars in', 'MUSK: Up quite dramatically.\\nWATTENBERG: How much percentage per year -- is that the way to measure it?\\nMUSK: Sure, well, of course SpaceX revenue have been growing about 150 to 200 percent a year. For Tesla -- well Tesla is kind of a -- Tesla will only start shipping cars next month and, so, real actually recognized revenue would only occur. So, the percentage would be ridiculously gigantic.\\nSo, part of it would [unintelligible] revenues percentage standpoint. But suffice it to say that next year Tesla will probably do 60 or 70 million dollars in revenue.\\nWATTENBERG: SpaceX is already profitable.\\nMUSK: Yes.\\nWATTENBERG: Tesla obviously cannot be profitable.\\nMUSK: It’s not profitable yet.\\nWATTENBERG: Now, you are not a public -- none of your ventures are public?\\nMUSK: None of my major ventures are public.\\nWATTENBERG: But they may well become --\\nMUSK: Correct. I suspect over time all three of my most significant ventures will become public companies, SpaceX, Tesla and Solar City.', 'WATTENBERG: SpaceX is already profitable.\\nMUSK: Yes.\\nWATTENBERG: Tesla obviously cannot be profitable.\\nMUSK: It’s not profitable yet.\\nWATTENBERG: Now, you are not a public -- none of your ventures are public?\\nMUSK: None of my major ventures are public.\\nWATTENBERG: But they may well become --\\nMUSK: Correct. I suspect over time all three of my most significant ventures will become public companies, SpaceX, Tesla and Solar City.\\nWATTENBERG: And the reason for this is to provide more capital to expand.\\nMUSK: Yeah go public -- provides more capital to expand, it provides some measure of liquidity for investors in the company and it’s also helpful as a currency for acquiring other companies.\\nWATTENBERG: Is that what you’d like to do --\\n[Break In Interview] [CHANGING TAPES]\\nWATTENBERG: So, you want to go public and issue stock?', 'MUSK: Yeah go public -- provides more capital to expand, it provides some measure of liquidity for investors in the company and it’s also helpful as a currency for acquiring other companies.\\nWATTENBERG: Is that what you’d like to do --\\n[Break In Interview] [CHANGING TAPES]\\nWATTENBERG: So, you want to go public and issue stock?\\nMUSK: Well, I wouldn’t say -- I said public is a -- going public is a consequence of you know a certain maturity level of the company down the road. But I wouldn’t -- I wouldn’t go public as a goal. It’s not really a goal, it’s --\\nWATTENBERG: One of the reasons that entrepreneurs go public if they have ambition -- is to use the stock to buy other companies -- [speaking over each other]\\nMUSK: Absolutely.\\nWATTENBERG: You were [unintelligible]\\nMUSK: Absolutely', ' going public is a consequence of you know a certain maturity level of the company down the road. But I wouldn’t -- I wouldn’t go public as a goal. It’s not really a goal, it’s --\\nWATTENBERG: One of the reasons that entrepreneurs go public if they have ambition -- is to use the stock to buy other companies -- [speaking over each other]\\nMUSK: Absolutely.\\nWATTENBERG: You were [unintelligible]\\nMUSK: Absolutely\\nWATTENBERG: And that’s what you want to do?\\nMUSK: Among other things, certainly one of the reasons.\\nWATTENBERG: How big would you like to grow in your mind’s eye? Very very very big or medium big, I mean, do you want to be as big as Microsoft?\\nMUSK: [Laughs] Do I want to be as big as Microsoft.\\nWATTENBERG: Well, somebody -- Gates did it, it’s not inconceivable.', 'MUSK: Among other things, certainly one of the reasons.\\nWATTENBERG: How big would you like to grow in your mind’s eye? Very very very big or medium big, I mean, do you want to be as big as Microsoft?\\nMUSK: [Laughs] Do I want to be as big as Microsoft.\\nWATTENBERG: Well, somebody -- Gates did it, it’s not inconceivable.\\nMUSK: Well, the size of the company market cap isn’t really a metric by which I would judge my own achievement.\\nI’m much more interested in the case of Tesla, Solar City, making impact on climate change and CO2 production and energy independence for those two companies and the case of SpaceX -- really primarily interested in making progress towards helping [unintelligible] become a space [unintelligible] civilization and ultimately extending life beyond earth.\\nAs a result, I expect that the companies will be valuable. Because it would be hard I think to accomplish those objectives and not be a valuable company.', 'I’m much more interested in the case of Tesla, Solar City, making impact on climate change and CO2 production and energy independence for those two companies and the case of SpaceX -- really primarily interested in making progress towards helping [unintelligible] become a space [unintelligible] civilization and ultimately extending life beyond earth.\\nAs a result, I expect that the companies will be valuable. Because it would be hard I think to accomplish those objectives and not be a valuable company.\\nWATTENBERG: Well, it’s very interesting. I have am, you know, in awe of what you guys do, not only because you create goods and services that we all need. But you know I was deeply involved in the whole cold war struggle.\\nAnd you know SDI -- Star Wars -- probably never would have worked [unintelligible] hitting a bullet with a bullet when they have 25 thousand MRVS. I mean, you can hit a few of them.\\nBut it’s very interesting it may have been the most successful military program in history, put a few million bucks in it, give it to the Russians -- scare the hell out of the Russians.', ' you know, in awe of what you guys do, not only because you create goods and services that we all need. But you know I was deeply involved in the whole cold war struggle.\\nAnd you know SDI -- Star Wars -- probably never would have worked [unintelligible] hitting a bullet with a bullet when they have 25 thousand MRVS. I mean, you can hit a few of them.\\nBut it’s very interesting it may have been the most successful military program in history, put a few million bucks in it, give it to the Russians -- scare the hell out of the Russians.\\nNow, the question is why did it scare the Russians. It scared the Soviets because it was basically -- this industry was created by a bunch of guys in their backyards diddling around. They didn’t allow kids to diddle around in their backyards if it was against state policy.\\nSo, they said, they can do it and we can’t do it. And, so, they started making deals which they would not have made if they weren’t afraid of SDI, which was nothing really to be afraid of.', ', the question is why did it scare the Russians. It scared the Soviets because it was basically -- this industry was created by a bunch of guys in their backyards diddling around. They didn’t allow kids to diddle around in their backyards if it was against state policy.\\nSo, they said, they can do it and we can’t do it. And, so, they started making deals which they would not have made if they weren’t afraid of SDI, which was nothing really to be afraid of.\\nBut again I mean, [speaking over each other] my world view on this thing is the best thing we have going for it is [unintelligible]. It shows up in the market place, it shows up in health, it shows up in longevity, it shows up in technology, it shows up in politics and geo politics and -- you know, within certain limits.\\nIf you allow free people to do things, they do great things.\\nMUSK: Yeah I agree absolutely.\\nWATTENBERG: Okay -- now let me ask you this: Who are your heroes?\\n', ' view on this thing is the best thing we have going for it is [unintelligible]. It shows up in the market place, it shows up in health, it shows up in longevity, it shows up in technology, it shows up in politics and geo politics and -- you know, within certain limits.\\nIf you allow free people to do things, they do great things.\\nMUSK: Yeah I agree absolutely.\\nWATTENBERG: Okay -- now let me ask you this: Who are your heroes?\\n\\nMUSK: My heroes. Well, Winston Churchill, Thomas Edison -- I mean, I could go on with this long list, I suppose.\\nWATTENBERG: Any of the American techie guys, the guys who were doing the sorts of things you are doing?\\nMUSK: Oh, you mean [unintelligible]\\nWATTENBERG: Yeah, you’re case. Go ahead counselor.\\nMUSK: [Laughter] Well, for people that [unintelligible] contemporary -- I mean, I think Larry and Sergey at Google. I suppose they’re my heroes -- they’re also my Friends.', 'WATTENBERG: Any of the American techie guys, the guys who were doing the sorts of things you are doing?\\nMUSK: Oh, you mean [unintelligible]\\nWATTENBERG: Yeah, you’re case. Go ahead counselor.\\nMUSK: [Laughter] Well, for people that [unintelligible] contemporary -- I mean, I think Larry and Sergey at Google. I suppose they’re my heroes -- they’re also my Friends.\\nWATTENBERG: Did you hang out socially with these guys?\\nMUSK: Yes.\\n\\nWATTENBERG: Is there anyone in the political world that you admire now particularly\\nMUSK: Who’s alive today?\\nWATTENBERG: Yeah, who’s alive today. Is there anyone you admire, is there anyone you detest?\\nMUSK: Who do I admire?\\nWATTENBERG: Yes.\\nMUSK: [pause] You know I’m not a huge admirer of politicians in general.', 'MUSK: Yes.\\n\\nWATTENBERG: Is there anyone in the political world that you admire now particularly\\nMUSK: Who’s alive today?\\nWATTENBERG: Yeah, who’s alive today. Is there anyone you admire, is there anyone you detest?\\nMUSK: Who do I admire?\\nWATTENBERG: Yes.\\nMUSK: [pause] You know I’m not a huge admirer of politicians in general.\\nWATTENBERG: Most Americans aren’t. [Laughter]\\n[speaking over each other]\\nWATTENBERG: It’s very interesting -- I mean, I think it’s a very healthy sign that the country’s okay and people don’t like politicians and don’t choose to vote. I mean, they say I got better things to do at the moment.\\nMUSK: Yeah I wouldn’t say I’m a huge admirer of anyone in particular on the political stage today. I mean, historically I would say Winston Churchill -- on', '[speaking over each other]\\nWATTENBERG: It’s very interesting -- I mean, I think it’s a very healthy sign that the country’s okay and people don’t like politicians and don’t choose to vote. I mean, they say I got better things to do at the moment.\\nMUSK: Yeah I wouldn’t say I’m a huge admirer of anyone in particular on the political stage today. I mean, historically I would say Winston Churchill -- on of the greats; you know maybe Teddy Roosevelt, Disraeli.\\nWATTENBERG: What about the more recent ones. Do you think Reagan did a good job?\\nMUSK: Yeah, absolutely. I think Reagan was great. Actually I think he was -- he should be up there among one of the great -- as one of the greater [unintelligible] Presidents.\\nWATTENBERG: How about Bill Clinton?\\nMUSK: Probably certainly above average as American Presidents go, not quite as good as a lot of people would make him out to be. I think if', 'WATTENBERG: What about the more recent ones. Do you think Reagan did a good job?\\nMUSK: Yeah, absolutely. I think Reagan was great. Actually I think he was -- he should be up there among one of the great -- as one of the greater [unintelligible] Presidents.\\nWATTENBERG: How about Bill Clinton?\\nMUSK: Probably certainly above average as American Presidents go, not quite as good as a lot of people would make him out to be. I think if you look at the actual track record on things like Rwanda, should have taken action.\\n\\nWATTENBERG: What do you think of the President incumbent, George W. Bush?\\nMUSK: You know, George Bush is like Reagan without the brains.\\n[Laughter]\\nMUSK: Reagan was a smart man.\\nWATTENBERG: It’s funny, that’s what they said about Reagan and he didn’t have any brains and he had a lot of brains.', '\\nWATTENBERG: What do you think of the President incumbent, George W. Bush?\\nMUSK: You know, George Bush is like Reagan without the brains.\\n[Laughter]\\nMUSK: Reagan was a smart man.\\nWATTENBERG: It’s funny, that’s what they said about Reagan and he didn’t have any brains and he had a lot of brains.\\nYou don’t need knowledge to be a good President, you need that V thing, the vision thing and I think Reagan had it. I think Bush has it. People disagree. To say, you know, the analogy is you can’t turn your boat around -- the ship around -- you got to say -- it’s an ocean liner -- you move it -- and Reagan had the ability -- I sort of think Bush does -- but history will tell -- to say well take it over that way and don’t bother me with the details. You know what I want.', ' V thing, the vision thing and I think Reagan had it. I think Bush has it. People disagree. To say, you know, the analogy is you can’t turn your boat around -- the ship around -- you got to say -- it’s an ocean liner -- you move it -- and Reagan had the ability -- I sort of think Bush does -- but history will tell -- to say well take it over that way and don’t bother me with the details. You know what I want.\\nYou know Kennedy and Reagan they brought something to the table that you can’t put a price on. They made Americans feel very good about themselves.\\nNow Kennedy didn’t do a whole lot, he died. He was killed too early. But for those years, people all around the world in America were saying that’s what America is like.\\nMUSK: I think the current President Bush does the right thing, in his view. But the really -- the big difference President Bush -- current Bush -- and Reagan -- is that Reagan actually had strong intellectual underpinnings for his decisive actions. He read -- he read a lot of books. He thought deeply about the subjects.', 'Now Kennedy didn’t do a whole lot, he died. He was killed too early. But for those years, people all around the world in America were saying that’s what America is like.\\nMUSK: I think the current President Bush does the right thing, in his view. But the really -- the big difference President Bush -- current Bush -- and Reagan -- is that Reagan actually had strong intellectual underpinnings for his decisive actions. He read -- he read a lot of books. He thought deeply about the subjects.\\nAnd particularly prior to the stroke, his writings were actually quite smart. He was a smart guy--\\n\\nWATTENBERG: Elon Musk, thank you very much for joining us on THINK TANK. Please come back again -- and thank you -- and thank you please remember to send your email comments to THINK TANK. We think it makes our program better. For THINK TANK I’m Ben Wattenberg.']\n"
     ]
    }
   ],
   "source": [
    "print(text_chunks)"
   ]
  },
  {
   "cell_type": "code",
   "execution_count": 137,
   "id": "18b76aea",
   "metadata": {},
   "outputs": [
    {
     "data": {
      "text/plain": [
       "Dataset({\n",
       "    features: ['input_ids', 'attention_mask'],\n",
       "    num_rows: 53\n",
       "})"
      ]
     },
     "execution_count": 137,
     "metadata": {},
     "output_type": "execute_result"
    }
   ],
   "source": [
    "train_data"
   ]
  },
  {
   "cell_type": "code",
   "execution_count": 141,
   "id": "fa6e5acd",
   "metadata": {},
   "outputs": [
    {
     "data": {
      "text/plain": [
       "53"
      ]
     },
     "execution_count": 141,
     "metadata": {},
     "output_type": "execute_result"
    }
   ],
   "source": [
    "len(train_data['attention_mask'])"
   ]
  },
  {
   "cell_type": "markdown",
   "id": "89d6e624",
   "metadata": {},
   "source": [
    "# Model training"
   ]
  },
  {
   "cell_type": "code",
   "execution_count": 31,
   "id": "4740ceda",
   "metadata": {},
   "outputs": [],
   "source": [
    "shared.args.lora_name='em1'"
   ]
  },
  {
   "cell_type": "code",
   "execution_count": null,
   "id": "3d8eb96e",
   "metadata": {},
   "outputs": [],
   "source": []
  },
  {
   "cell_type": "code",
   "execution_count": 32,
   "id": "6d777c26",
   "metadata": {},
   "outputs": [],
   "source": [
    "from peft import (LoraConfig, get_peft_model, prepare_model_for_int8_training,\n",
    "                  set_peft_model_state_dict)\n",
    "import traceback\n",
    "\n",
    "def clean_path(base_path: str, path: str):\n",
    "    \"\"\"Strips unusual symbols and forcibly builds a path as relative to the intended directory.\"\"\"\n",
    "    # TODO: Probably could do with a security audit to guarantee there's no ways this can be bypassed to target an unwanted path.\n",
    "    # Or swap it to a strict whitelist of [a-zA-Z_0-9]\n",
    "    path = path.replace('\\\\', '/').replace('..', '_')\n",
    "    if base_path is None:\n",
    "        return path\n",
    "\n",
    "    return f'{Path(base_path).absolute()}/{path}'\n",
    "\n",
    "model_id = \"llama\"\n",
    "lora_file_path = clean_path(None, shared.args.lora_name)\n",
    "lora_file_path = f\"{shared.args.lora_dir}/{lora_file_path}\"\n",
    "\n",
    "# This mapping is from a very recent commit, not yet released.\n",
    "# If not available, default to a backup map for some common model types.\n",
    "try:\n",
    "    from peft.utils.other import \\\n",
    "        TRANSFORMERS_MODELS_TO_LORA_TARGET_MODULES_MAPPING as \\\n",
    "        model_to_lora_modules\n",
    "    from transformers.models.auto.modeling_auto import MODEL_FOR_CAUSAL_LM_MAPPING_NAMES\n",
    "    MODEL_CLASSES = {v: k for k, v in MODEL_FOR_CAUSAL_LM_MAPPING_NAMES}\n",
    "except:\n",
    "    standard_modules = [\"q_proj\", \"v_proj\"]\n",
    "    model_to_lora_modules = {\"llama\": standard_modules, \"opt\": standard_modules, \"gptj\": standard_modules, \"gpt_neox\": [\"query_key_value\"]}\n",
    "    MODEL_CLASSES = {\n",
    "        \"LlamaForCausalLM\": \"llama\",\n",
    "        \"OPTForCausalLM\": \"opt\",\n",
    "        \"GPTJForCausalLM\": \"gptj\",\n",
    "        \"GPTNeoXForCausalLM\": \"gpt_neox\"\n",
    "    }\n",
    "\n",
    "\n",
    "config = LoraConfig(\n",
    "    r=shared.args.lora_rank,\n",
    "    lora_alpha=shared.args.lora_alpha,\n",
    "    target_modules=model_to_lora_modules[model_id],\n",
    "    lora_dropout=shared.args.lora_dropout,\n",
    "    bias=\"none\",\n",
    "    task_type=\"CAUSAL_LM\"\n",
    ")\n",
    "\n",
    "try:\n",
    "    logging.info(\"Creating LoRA model...\")\n",
    "    lora_model = get_peft_model(shared.model, config)\n",
    "    if not shared.args.always_override and Path(f\"{lora_file_path}/adapter_model.bin\").is_file():\n",
    "        logging.info(\"Loading existing LoRA data...\")\n",
    "        state_dict_peft = torch.load(f\"{lora_file_path}/adapter_model.bin\")\n",
    "        set_peft_model_state_dict(lora_model, state_dict_peft)\n",
    "except:\n",
    "    print(traceback.format_exc())"
   ]
  },
  {
   "cell_type": "code",
   "execution_count": 33,
   "id": "ef0efe43",
   "metadata": {},
   "outputs": [
    {
     "name": "stdout",
     "output_type": "stream",
     "text": [
      "False\n"
     ]
    }
   ],
   "source": [
    "print(shared.args.always_override)"
   ]
  },
  {
   "cell_type": "code",
   "execution_count": 41,
   "id": "2e5812c5",
   "metadata": {},
   "outputs": [],
   "source": [
    "shared.args.epochs=1"
   ]
  },
  {
   "cell_type": "code",
   "execution_count": 42,
   "id": "3f08c790",
   "metadata": {},
   "outputs": [],
   "source": [
    "import math\n",
    "class Callbacks(transformers.TrainerCallback):\n",
    "    def on_step_begin(self, args: transformers.TrainingArguments, state: transformers.TrainerState, control: transformers.TrainerControl, **kwargs):\n",
    "        tracked.current_steps = state.global_step * gradient_accumulation_steps\n",
    "        tracked.max_steps = state.max_steps * gradient_accumulation_steps\n",
    "        if WANT_INTERRUPT:\n",
    "            control.should_epoch_stop = True\n",
    "            control.should_training_stop = True\n",
    "        elif state.global_step > 0 and actual_save_steps > 0 and state.global_step % actual_save_steps == 0:\n",
    "            lora_model.save_pretrained(f\"{lora_file_path}/checkpoint-{tracked.current_steps}/\")\n",
    "\n",
    "    def on_substep_end(self, args: transformers.TrainingArguments, state: transformers.TrainerState, control: transformers.TrainerControl, **kwargs):\n",
    "        tracked.current_steps += 1\n",
    "        if WANT_INTERRUPT:\n",
    "            control.should_epoch_stop = True\n",
    "            control.should_training_stop = True\n",
    "\n",
    "\n",
    "trainer = transformers.Trainer(\n",
    "    model=lora_model,\n",
    "    train_dataset=train_data,\n",
    "    eval_dataset=eval_data,\n",
    "    args=transformers.TrainingArguments(\n",
    "        per_device_train_batch_size=shared.args.micro_batch_size,\n",
    "        gradient_accumulation_steps=shared.args.batch_size // shared.args.micro_batch_size,\n",
    "        warmup_steps=math.ceil(shared.args.warmup_steps / (shared.args.batch_size // shared.args.micro_batch_size)),\n",
    "        num_train_epochs=shared.args.epochs,\n",
    "        learning_rate=float(shared.args.learning_rate),\n",
    "        fp16=False,\n",
    "        optim=shared.args.optimizer,\n",
    "        logging_steps=5,\n",
    "        evaluation_strategy=\"steps\" if eval_data is not None else \"no\",\n",
    "        eval_steps=math.ceil(shared.args.eval_steps / shared.args.gradient_accumulation_steps) if eval_data is not None else None,\n",
    "        save_strategy=\"steps\" if eval_data is not None else \"no\",\n",
    "        output_dir=lora_file_path,\n",
    "        lr_scheduler_type=shared.args.lr_scheduler_type,\n",
    "        load_best_model_at_end=eval_data is not None,\n",
    "        # TODO: Enable multi-device support\n",
    "        ddp_find_unused_parameters=None,\n",
    "        no_cuda=shared.args.cpu\n",
    "    ),\n",
    "    data_collator=transformers.DataCollatorForLanguageModeling(shared.tokenizer, mlm=False),\n",
    "    callbacks=list([Callbacks()])\n",
    ")\n"
   ]
  },
  {
   "cell_type": "code",
   "execution_count": 43,
   "id": "9871958f",
   "metadata": {},
   "outputs": [
    {
     "name": "stdout",
     "output_type": "stream",
     "text": [
      "adamw_torch\n"
     ]
    }
   ],
   "source": [
    "print(shared.args.optimizer)"
   ]
  },
  {
   "cell_type": "code",
   "execution_count": 44,
   "id": "94cf480d",
   "metadata": {},
   "outputs": [],
   "source": [
    "lora_model.config.use_cache = False\n",
    "\n",
    "if torch.__version__ >= \"2\" and sys.platform != \"win32\":\n",
    "    lora_model = torch.compile(lora_model)"
   ]
  },
  {
   "cell_type": "code",
   "execution_count": 54,
   "id": "2a867d8e",
   "metadata": {},
   "outputs": [
    {
     "data": {
      "text/html": [
       "\n",
       "    <div>\n",
       "      \n",
       "      <progress value='1' max='1' style='width:300px; height:20px; vertical-align: middle;'></progress>\n",
       "      [1/1 00:00, Epoch 1/1]\n",
       "    </div>\n",
       "    <table border=\"1\" class=\"dataframe\">\n",
       "  <thead>\n",
       " <tr style=\"text-align: left;\">\n",
       "      <th>Step</th>\n",
       "      <th>Training Loss</th>\n",
       "    </tr>\n",
       "  </thead>\n",
       "  <tbody>\n",
       "  </tbody>\n",
       "</table><p>"
      ],
      "text/plain": [
       "<IPython.core.display.HTML object>"
      ]
     },
     "metadata": {},
     "output_type": "display_data"
    },
    {
     "name": "stderr",
     "output_type": "stream",
     "text": [
      "Exception in thread Thread-8 (threaded_run):\n",
      "Traceback (most recent call last):\n",
      "  File \"/Users/shhe/opt/anaconda3/envs/trainlora/lib/python3.10/threading.py\", line 1016, in _bootstrap_inner\n",
      "    self.run()\n",
      "  File \"/Users/shhe/opt/anaconda3/envs/trainlora/lib/python3.10/threading.py\", line 953, in run\n",
      "    self._target(*self._args, **self._kwargs)\n",
      "  File \"/var/folders/58/q_xbhc496k95t3ydn54m00z80000gp/T/ipykernel_36290/2100478145.py\", line 36, in threaded_run\n",
      "  File \"/Users/shhe/opt/anaconda3/envs/trainlora/lib/python3.10/site-packages/transformers/trainer.py\", line 1664, in train\n",
      "    return inner_training_loop(\n",
      "  File \"/Users/shhe/opt/anaconda3/envs/trainlora/lib/python3.10/site-packages/transformers/trainer.py\", line 1940, in _inner_training_loop\n",
      "    tr_loss_step = self.training_step(model, inputs)\n",
      "  File \"/Users/shhe/opt/anaconda3/envs/trainlora/lib/python3.10/site-packages/transformers/trainer.py\", line 2753, in training_step\n",
      "    loss.backward()\n",
      "  File \"/Users/shhe/opt/anaconda3/envs/trainlora/lib/python3.10/site-packages/torch/_tensor.py\", line 487, in backward\n",
      "    torch.autograd.backward(\n",
      "  File \"/Users/shhe/opt/anaconda3/envs/trainlora/lib/python3.10/site-packages/torch/autograd/__init__.py\", line 200, in backward\n",
      "    Variable._execution_engine.run_backward(  # Calls into the C++ engine to run the backward pass\n",
      "RuntimeError: one of the variables needed for gradient computation has been modified by an inplace operation: [torch.FloatTensor [32, 2048]], which is output 0 of AsStridedBackward0, is at version 5; expected version 3 instead. Hint: enable anomaly detection to find the operation that failed to compute its gradient, with torch.autograd.set_detect_anomaly(True).\n"
     ]
    }
   ],
   "source": [
    "import json\n",
    "import threading\n",
    "\n",
    "WANT_INTERRUPT = False\n",
    "PARAMETERS = [\"lora_name\", \"always_override\", \"save_steps\", \"micro_batch_size\", \"batch_size\", \"epochs\", \"learning_rate\", \"lr_scheduler_type\", \"lora_rank\", \"lora_alpha\", \"lora_dropout\", \"cutoff_len\", \"dataset\", \"eval_dataset\", \"format\", \"eval_steps\", \"raw_text_file\", \"overlap_len\", \"newline_favor_len\", \"higher_rank_limit\", \"warmup_steps\", \"optimizer\", \"hard_cut_string\"]\n",
    "\n",
    "class Tracked():\n",
    "    def __init__(self):\n",
    "        self.current_steps = 0\n",
    "        self.max_steps = 0\n",
    "        self.did_save = False\n",
    "\n",
    "tracked = Tracked()\n",
    "gradient_accumulation_steps=shared.args.batch_size // shared.args.micro_batch_size\n",
    "actual_save_steps = math.ceil(shared.args.save_steps / gradient_accumulation_steps)\n",
    "\n",
    "def format_time(seconds: float):\n",
    "    if seconds < 120:\n",
    "        return f\"`{seconds:.0f}` seconds\"\n",
    "\n",
    "    minutes = seconds / 60\n",
    "    if minutes < 120:\n",
    "        return f\"`{minutes:.0f}` minutes\"\n",
    "\n",
    "    hours = minutes / 60\n",
    "    return f\"`{hours:.0f}` hours\"\n",
    "\n",
    "# == Save parameters for reuse ==\n",
    "#with open(f\"{lora_file_path}/training_parameters.json\", 'w', encoding='utf-8') as file:\n",
    "#    vars = locals()\n",
    "#    json.dump({x: vars[x] for x in PARAMETERS}, file)\n",
    "\n",
    "# == Main run and monitor loop ==\n",
    "logging.info(\"Starting training...\")\n",
    "def threaded_run():\n",
    "    trainer.train()\n",
    "    # Note: save in the thread in case the gradio thread breaks (eg browser closed)\n",
    "    lora_model.save_pretrained(lora_file_path)\n",
    "    logging.info(\"LoRA training run is completed and saved.\")\n",
    "    tracked.did_save = True\n",
    "\n",
    "thread = threading.Thread(target=threaded_run)\n",
    "thread.start()\n",
    "last_step = 0\n",
    "start_time = time.perf_counter()\n",
    "\n",
    "\n",
    "while thread.is_alive():\n",
    "    time.sleep(0.5)\n",
    "    if WANT_INTERRUPT:\n",
    "        pass\n",
    "    #     yield \"Interrupting, please wait... *(Run will stop after the current training step completes.)*\"\n",
    "\n",
    "    elif tracked.current_steps != last_step:\n",
    "        last_step = tracked.current_steps\n",
    "        time_elapsed = time.perf_counter() - start_time\n",
    "        if time_elapsed <= 0:\n",
    "            timer_info = \"\"\n",
    "            total_time_estimate = 999\n",
    "        else:\n",
    "            its = tracked.current_steps / time_elapsed\n",
    "            if its > 1:\n",
    "                timer_info = f\"`{its:.2f}` it/s\"\n",
    "            else:\n",
    "                timer_info = f\"`{1.0/its:.2f}` s/it\"\n",
    "\n",
    "            total_time_estimate = (1.0 / its) * (tracked.max_steps)\n",
    "\n",
    "        logging.info(f\"Running... **{tracked.current_steps}** / **{tracked.max_steps}** ... {timer_info}, {format_time(time_elapsed)} / {format_time(total_time_estimate)} ... {format_time(total_time_estimate - time_elapsed)} remaining\")\n"
   ]
  },
  {
   "cell_type": "code",
   "execution_count": null,
   "id": "adcd29df",
   "metadata": {},
   "outputs": [],
   "source": []
  },
  {
   "cell_type": "code",
   "execution_count": null,
   "id": "9aaa18a8",
   "metadata": {},
   "outputs": [],
   "source": []
  }
 ],
 "metadata": {
  "kernelspec": {
   "display_name": "Python 3 (ipykernel)",
   "language": "python",
   "name": "python3"
  },
  "language_info": {
   "codemirror_mode": {
    "name": "ipython",
    "version": 3
   },
   "file_extension": ".py",
   "mimetype": "text/x-python",
   "name": "python",
   "nbconvert_exporter": "python",
   "pygments_lexer": "ipython3",
   "version": "3.10.11"
  }
 },
 "nbformat": 4,
 "nbformat_minor": 5
}
